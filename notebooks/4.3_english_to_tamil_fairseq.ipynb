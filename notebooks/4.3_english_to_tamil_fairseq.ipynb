{
 "cells": [
  {
   "cell_type": "markdown",
   "metadata": {},
   "source": [
    "# MACHINE TRANSLATION WITH FAIRSEQ (1/2) - ENGLISH_TO_TAMIL\n",
    "\n",
    "Facebook's AI team [recently released](https://github.com/pytorch/fairseq/tree/master/examples/wmt20) its machine translation models for Tamil<->English, and I was eager to give it a try since Tamil is among the most under-served languages in machine learning, and related language pairs are pretty hard to come by.\n",
    "\n",
    "This is also a good opportunity to try out FB's Fairseq library, which seems pretty user-friendly for folks who work with pandas dataframes. Over two short notebooks, I'll demo a simple workflow for:\n",
    "* translating English speeches and news stories to Tamil\n",
    "* translating Tamil speeches and news stories to English.\n",
    "\n",
    "## DATASET\n",
    "The datasets used in these two notebooks involve some existing ones already in use by other notebooks in this repo, as well as new ones selected for this exercise.\n",
    "\n",
    "* Existing datasets:\n",
    "    - The English speeches are taken from an existing dataset comprising 11 speeches in 4 languages (English, Malay, Chinese, and Tamil) from the website of the [Singapore Prime Minister's Office](https://www.pmo.gov.sg/).\n",
    "    - The English news stories (on Covid-19) were published on Singapore news outlet's CNA's website in March 2020, and were used in earlier notebooks on English-to-Chinese translation.\n",
    "\n",
    "* New datasets:\n",
    "    - The Tamil speeches ([tamil_speeches.csv](https://github.com/chuachinhon/practical_nlp/blob/master/data/tamil_speeches.csv)) are also taken from the website of the Singapore Prime Minister's Office. These are official speeches with English versions (not direct translations though) for reference.\n",
    "    - The Tamil news stories ([tamil_stories.csv](https://github.com/chuachinhon/practical_nlp/blob/master/data/tamil_stories.csv)) are taken from [Sethi](https://seithi.mediacorp.sg/), Singapore state broadcaster Mediacorp's Tamil-language news website\n",
    "\n",
    "I kept the new datasets small so as to keep the run times manageable.\n",
    "\n",
    "## RESULTS\n",
    "The output CSV files with the translated text and original copy can be [downloaded here](https://www.dropbox.com/sh/26b7q5tqyqp8kim/AAB6HGPhmrF4_Ijdr0NN8hAFa). \n",
    "\n",
    "There are still some obvious problems with the quality of the translation. But as mentioned in earlier notebooks, machine translation gets about 70-80% of the job done, allowing human translators to work more efficiently.\n",
    "\n",
    "I've not done comparisons to see whether the machine translation results from fairseq are better/comparable with those from MarianMT."
   ]
  },
  {
   "cell_type": "code",
   "execution_count": 1,
   "metadata": {},
   "outputs": [],
   "source": [
    "import pandas as pd\n",
    "import re\n",
    "import torch\n",
    "import warnings\n",
    "\n",
    "from nltk.tokenize import sent_tokenize\n",
    "warnings.filterwarnings('ignore')"
   ]
  },
  {
   "cell_type": "markdown",
   "metadata": {},
   "source": [
    "# 1. TRANSLATE ENGLISH SPEECHES TO TAMIL\n",
    "\n",
    "In this notebook, we'll try out Faireseq and FB's English-to-Tamil language pairing. Most of the complex code have been abstracted away by the fairseq API, which is very easy to use with pandas and nltk's sentence tokenizer.\n",
    "\n",
    "Max token length for the Fairseq models are 1,024. The speeches and stories used here are well under this limit (and to re-iterate, I've used a sentence tokenizer). Longer corpuses will require a separate function to split up the text, which I won't go into here."
   ]
  },
  {
   "cell_type": "code",
   "execution_count": 2,
   "metadata": {},
   "outputs": [],
   "source": [
    "# this toy dataset is in the repo. We'll pick only the English speeches\n",
    "\n",
    "raw = pd.read_csv('../data/translation_speeches.csv')\n",
    "\n",
    "speeches = raw[raw['Language'] == 'English'].copy()"
   ]
  },
  {
   "cell_type": "code",
   "execution_count": 3,
   "metadata": {},
   "outputs": [
    {
     "data": {
      "text/html": [
       "<div>\n",
       "<style scoped>\n",
       "    .dataframe tbody tr th:only-of-type {\n",
       "        vertical-align: middle;\n",
       "    }\n",
       "\n",
       "    .dataframe tbody tr th {\n",
       "        vertical-align: top;\n",
       "    }\n",
       "\n",
       "    .dataframe thead th {\n",
       "        text-align: right;\n",
       "    }\n",
       "</style>\n",
       "<table border=\"1\" class=\"dataframe\">\n",
       "  <thead>\n",
       "    <tr style=\"text-align: right;\">\n",
       "      <th></th>\n",
       "      <th>Date</th>\n",
       "      <th>Speaker</th>\n",
       "      <th>Title</th>\n",
       "      <th>Language</th>\n",
       "      <th>Text</th>\n",
       "      <th>URL</th>\n",
       "    </tr>\n",
       "  </thead>\n",
       "  <tbody>\n",
       "    <tr>\n",
       "      <th>0</th>\n",
       "      <td>2020-04-30</td>\n",
       "      <td>Lee Hsien Loong</td>\n",
       "      <td>May Day Message 2020</td>\n",
       "      <td>English</td>\n",
       "      <td>This year, we mark May Day amidst difficult ci...</td>\n",
       "      <td>https://www.pmo.gov.sg/Newsroom/PM-Lee-Hsien-L...</td>\n",
       "    </tr>\n",
       "    <tr>\n",
       "      <th>4</th>\n",
       "      <td>2020-07-27</td>\n",
       "      <td>Lee Hsien Loong</td>\n",
       "      <td>Cabinet Swearing-in Ceremony</td>\n",
       "      <td>English</td>\n",
       "      <td>Singaporeans have just gone through a crucial ...</td>\n",
       "      <td>https://www.pmo.gov.sg/Newsroom/Speech-by-PM-L...</td>\n",
       "    </tr>\n",
       "    <tr>\n",
       "      <th>7</th>\n",
       "      <td>2020-08-09</td>\n",
       "      <td>Lee Hsien Loong</td>\n",
       "      <td>National Day Message 2020</td>\n",
       "      <td>English</td>\n",
       "      <td>Every year, rain or shine, Singaporeans come t...</td>\n",
       "      <td>https://www.pmo.gov.sg/Newsroom/National-Day-M...</td>\n",
       "    </tr>\n",
       "  </tbody>\n",
       "</table>\n",
       "</div>"
      ],
      "text/plain": [
       "         Date          Speaker                         Title Language  \\\n",
       "0  2020-04-30  Lee Hsien Loong          May Day Message 2020  English   \n",
       "4  2020-07-27  Lee Hsien Loong  Cabinet Swearing-in Ceremony  English   \n",
       "7  2020-08-09  Lee Hsien Loong     National Day Message 2020  English   \n",
       "\n",
       "                                                Text  \\\n",
       "0  This year, we mark May Day amidst difficult ci...   \n",
       "4  Singaporeans have just gone through a crucial ...   \n",
       "7  Every year, rain or shine, Singaporeans come t...   \n",
       "\n",
       "                                                 URL  \n",
       "0  https://www.pmo.gov.sg/Newsroom/PM-Lee-Hsien-L...  \n",
       "4  https://www.pmo.gov.sg/Newsroom/Speech-by-PM-L...  \n",
       "7  https://www.pmo.gov.sg/Newsroom/National-Day-M...  "
      ]
     },
     "execution_count": 3,
     "metadata": {},
     "output_type": "execute_result"
    }
   ],
   "source": [
    "speeches.head()"
   ]
  },
  {
   "cell_type": "markdown",
   "metadata": {},
   "source": [
    "## 1.1 CLEAN TEXT\n",
    "\n",
    "For machine translation, my preference is to clean as lightly as possible so as to preserve as much information as possible."
   ]
  },
  {
   "cell_type": "code",
   "execution_count": 4,
   "metadata": {},
   "outputs": [],
   "source": [
    "def clean_text(text):\n",
    "    text = re.sub(r\"\\n\", \" \", text)\n",
    "    text = re.sub(r\"\\n\\n\", \" \", text)\n",
    "    text = text.strip(\" \")\n",
    "    text = re.sub(\n",
    "        \" +\", \" \", text\n",
    "    ).strip()  # gets rid of multiple spaces and replace with a single\n",
    "    return text\n",
    "\n",
    "speeches[\"Text\"] = speeches['Text'].map(lambda text: clean_text(text))"
   ]
  },
  {
   "cell_type": "markdown",
   "metadata": {},
   "source": [
    "## 1.2 LOAD FAIRSEQ MODEL AND TRANSLATE\n",
    "\n",
    "It takes just 2 lines of code to batch translate the speeches. The task was completed in about 7.5 minutes on my late-2015 iMac. Performance would vary according to your hardware/set-up.\n"
   ]
  },
  {
   "cell_type": "code",
   "execution_count": 5,
   "metadata": {},
   "outputs": [
    {
     "name": "stderr",
     "output_type": "stream",
     "text": [
      "Using cache found in /Users/empire/.cache/torch/hub/pytorch_fairseq_master\n"
     ]
    }
   ],
   "source": [
    "en2ta = torch.hub.load('pytorch/fairseq', 'transformer.wmt20.en-ta')"
   ]
  },
  {
   "cell_type": "code",
   "execution_count": 6,
   "metadata": {},
   "outputs": [
    {
     "name": "stdout",
     "output_type": "stream",
     "text": [
      "CPU times: user 23min 25s, sys: 50 s, total: 24min 15s\n",
      "Wall time: 7min 27s\n",
      "Compiler : 330 ms\n"
     ]
    }
   ],
   "source": [
    "%%time\n",
    "speeches[\"Translation\"] = speeches[\"Text\"].apply(\n",
    "    lambda text: en2ta.translate(sent_tokenize(text))\n",
    ")\n"
   ]
  },
  {
   "cell_type": "markdown",
   "metadata": {},
   "source": [
    "## 1.3 RE-ORG FOR CLARITY"
   ]
  },
  {
   "cell_type": "code",
   "execution_count": 7,
   "metadata": {},
   "outputs": [],
   "source": [
    "cols1 = [\n",
    "    \"Date\",\n",
    "    \"Speaker\",\n",
    "    \"Title\",\n",
    "    \"Text\",\n",
    "    \"Translation\",\n",
    "    \"URL\",\n",
    "]\n",
    "\n",
    "speeches_translated = speeches[cols1]"
   ]
  },
  {
   "cell_type": "code",
   "execution_count": 8,
   "metadata": {},
   "outputs": [
    {
     "data": {
      "text/html": [
       "<div>\n",
       "<style scoped>\n",
       "    .dataframe tbody tr th:only-of-type {\n",
       "        vertical-align: middle;\n",
       "    }\n",
       "\n",
       "    .dataframe tbody tr th {\n",
       "        vertical-align: top;\n",
       "    }\n",
       "\n",
       "    .dataframe thead th {\n",
       "        text-align: right;\n",
       "    }\n",
       "</style>\n",
       "<table border=\"1\" class=\"dataframe\">\n",
       "  <thead>\n",
       "    <tr style=\"text-align: right;\">\n",
       "      <th></th>\n",
       "      <th>Date</th>\n",
       "      <th>Speaker</th>\n",
       "      <th>Title</th>\n",
       "      <th>Text</th>\n",
       "      <th>Translation</th>\n",
       "      <th>URL</th>\n",
       "    </tr>\n",
       "  </thead>\n",
       "  <tbody>\n",
       "    <tr>\n",
       "      <th>0</th>\n",
       "      <td>2020-04-30</td>\n",
       "      <td>Lee Hsien Loong</td>\n",
       "      <td>May Day Message 2020</td>\n",
       "      <td>This year, we mark May Day amidst difficult ci...</td>\n",
       "      <td>[இந்த வருடம், கடினமான சூழ்நிலைகளுக்கு இடையில் ...</td>\n",
       "      <td>https://www.pmo.gov.sg/Newsroom/PM-Lee-Hsien-L...</td>\n",
       "    </tr>\n",
       "    <tr>\n",
       "      <th>4</th>\n",
       "      <td>2020-07-27</td>\n",
       "      <td>Lee Hsien Loong</td>\n",
       "      <td>Cabinet Swearing-in Ceremony</td>\n",
       "      <td>Singaporeans have just gone through a crucial ...</td>\n",
       "      <td>[சிங்கப்பூரர்கள் மிகப்பெரிய நெருக்கடிக்கு இடைய...</td>\n",
       "      <td>https://www.pmo.gov.sg/Newsroom/Speech-by-PM-L...</td>\n",
       "    </tr>\n",
       "    <tr>\n",
       "      <th>7</th>\n",
       "      <td>2020-08-09</td>\n",
       "      <td>Lee Hsien Loong</td>\n",
       "      <td>National Day Message 2020</td>\n",
       "      <td>Every year, rain or shine, Singaporeans come t...</td>\n",
       "      <td>[ஒவ்வொரு வருடமும், மழையோ, பிரகாசமோ, சிங்கப்பூர...</td>\n",
       "      <td>https://www.pmo.gov.sg/Newsroom/National-Day-M...</td>\n",
       "    </tr>\n",
       "  </tbody>\n",
       "</table>\n",
       "</div>"
      ],
      "text/plain": [
       "         Date          Speaker                         Title  \\\n",
       "0  2020-04-30  Lee Hsien Loong          May Day Message 2020   \n",
       "4  2020-07-27  Lee Hsien Loong  Cabinet Swearing-in Ceremony   \n",
       "7  2020-08-09  Lee Hsien Loong     National Day Message 2020   \n",
       "\n",
       "                                                Text  \\\n",
       "0  This year, we mark May Day amidst difficult ci...   \n",
       "4  Singaporeans have just gone through a crucial ...   \n",
       "7  Every year, rain or shine, Singaporeans come t...   \n",
       "\n",
       "                                         Translation  \\\n",
       "0  [இந்த வருடம், கடினமான சூழ்நிலைகளுக்கு இடையில் ...   \n",
       "4  [சிங்கப்பூரர்கள் மிகப்பெரிய நெருக்கடிக்கு இடைய...   \n",
       "7  [ஒவ்வொரு வருடமும், மழையோ, பிரகாசமோ, சிங்கப்பூர...   \n",
       "\n",
       "                                                 URL  \n",
       "0  https://www.pmo.gov.sg/Newsroom/PM-Lee-Hsien-L...  \n",
       "4  https://www.pmo.gov.sg/Newsroom/Speech-by-PM-L...  \n",
       "7  https://www.pmo.gov.sg/Newsroom/National-Day-M...  "
      ]
     },
     "execution_count": 8,
     "metadata": {},
     "output_type": "execute_result"
    }
   ],
   "source": [
    "speeches_translated.head()"
   ]
  },
  {
   "cell_type": "markdown",
   "metadata": {},
   "source": [
    "## 1.4 CHECK RESULTS"
   ]
  },
  {
   "cell_type": "code",
   "execution_count": 9,
   "metadata": {},
   "outputs": [],
   "source": [
    "# OPTIONAL: output results for closer inspection\n",
    "\n",
    "# speeches_translated.to_csv(\"../data/eng_to_tamil_speeches.csv\", index=False)"
   ]
  },
  {
   "cell_type": "code",
   "execution_count": 10,
   "metadata": {},
   "outputs": [
    {
     "data": {
      "text/plain": [
       "['சிங்கப்பூரர்கள் மிகப்பெரிய நெருக்கடிக்கு இடையில் நடந்துமுடிந்த மிக முக்கியமான பொதுத்தேர்தலை இப்போதுதான் சந்தித்துள்ளனர்.',\n",
       " 'COVID-19 மற்றும் வைரஸ் ஏற்படுத்திய பொருளாதார வீழ்ச்சி ஆகியவற்றைக் கையாண்டு ஆறு கடினமான மாதங்களைக் கடந்து வந்தோம்.',\n",
       " 'இன்னும் வரவிருக்கும் கடினமான மாதங்கள் மற்றும் ஆண்டுகளைச் சமாளிக்க, அரசுக்கு ஒரு புதிய ஆணையையும், ஒரு முழு காலத்தையும் வழங்குவதற்காக இந்தத் தேர்தலுக்கு நான் அழைப்பு விடுத்தேன்.',\n",
       " 'இதில் என்ன சிக்கல் இருக்கிறது என்பது சிங்கப்பூரர்களுக்குப் புரிந்தது.',\n",
       " 'வேட்பாளர்களும், கட்சிகளும் என்ன செய்ய வேண்டும் என்பதை அவர்கள் கவனமாக பரிசீலித்தனர்.',\n",
       " 'வாக்குப்பதிவு நாளன்று, வாக்காளர்கள் முழு பலத்துடன் வந்திருந்தனர்.',\n",
       " 'அவர்கள் பொதுஜன பெரமுன கட்சிக்கு ஆட்சி அமைக்க ஒரு தெளிவான ஆணையை வழங்கினார்கள்.',\n",
       " 'இந்தப் பெரும் பொறுப்பை சிங்கப்பூரர்கள் எங்களிடம் ஒப்படைத்திருப்பது குறித்து நானும் எனது குழுவினரும் மிகவும் தாழ்மையுடன் இருக்கிறோம்.',\n",
       " 'எதிர்வரும் சவால்களைச் சமாளிக்கவும், சிங்கப்பூரைச் சிக்கலில் இருந்து மீட்டெடுக்கவும், உங்கள் சார்பாகச் செயல்படவும், விடாமுயற்சியுடன் செயல்படவும், எங்களது ஆணையைப் பயன்படுத்துவோம்.',\n",
       " 'நமது புதிய அமைச்சரவை மற்றும் அரசாங்கத்தின் பணிகள் ஏற்கனவே தொடங்கிவிட்டன.',\n",
       " 'எங்களுக்குப் பின்னால் தேர்தல்கள் உள்ளன.',\n",
       " 'நமது அரசியல் வியூகங்கள் எதுவாக இருந்தாலும், நாம் முதன்மையான சிங்கப்பூரர்கள் என்பதை ஒருபோதும் மறந்துவிடாதீர்கள்.',\n",
       " 'நாம் அனைவரும் ஒன்றிணைந்து, வரவிருக்கும் முக்கிய சவால்கள் மீது நமது ஆற்றல்களைக் குவிப்போம்.',\n",
       " 'பொது சுகாதார முன்னணியில் உள்ள பெரும் சவால்கள் COVID-19 ஒரு தீவிரமான பிரச்சினையாகவே உள்ளது.',\n",
       " 'புதிய நோய்த்தொற்றுகள் மற்றும் உயிரிழப்புகள் இரண்டுமே தொடர்ந்து அதிகரித்து வரும் நிலையில், உலக நிலைமை மேலும் மோசமான நிலையை அடைந்துள்ளது.',\n",
       " 'ஹாங்காங் மற்றும் சியோலைப் போன்று ஆரம்பத்தில் இந்த வைரஸைக் கட்டுப்பாட்டிற்குள் கொண்டு வந்த நகரங்கள் கூட, பாதுகாப்பான தொலைதூர நடவடிக்கைகளைத் தளர்த்தி, பொருளாதாரத்தைத் திறந்த பிறகு, மீண்டும் மீண்டும் பாதிப்புக்குள்ளாகின.',\n",
       " 'வைரஸ் பாதிப்பிலிருந்து நம்மை விடுவித்துக்கொள்வது சிங்கப்பூருக்கு எவ்வளவு சிரமமாக இருக்கும் என்பதையே இது காட்டுகிறது.',\n",
       " 'இதன் காரணமாகவே, பொருளாதார நடவடிக்கைகளை நாம் படிப்படியாக மீட்டெடுத்து, நமது எல்லைகளை மீண்டும் திறந்து, நமது வாழ்க்கையை மீண்டும் தொடரும்போது, தடயங்களைப் பரிசோதித்து, தொடர்புகொள்வதற்கான நமது திறன்களையும் நாம் மேம்படுத்தி வருகிறோம், இதன் மூலம் புதிய நோய்களை நம்மால் விரைவாக அடையாளம் காணவும், முறியடிக்கவும் இயலும்.',\n",
       " 'ஆனால், நாம் ஒவ்வொருவரும் இன்னும் நமது பங்கினை ஆற்ற வேண்டும், விழிப்புடன் இருக்க வேண்டும், பாதுகாப்பான தூரத்தை கடைபிடிக்க வேண்டும், சமூக கலந்துரையாடல்களைக் குறைக்க வேண்டும்.',\n",
       " 'அந்தவகையில் நமது அன்புக்குரியவர்களின், குறிப்பாக நமது முதியவர்களின் ஆரோக்கியத்தையும், வாழ்க்கையையும் பாதுகாக்க முடியும்.',\n",
       " 'அதே சமயம், நமது பொருளாதாரம் மீண்டும் முன்னேற வேண்டும்.',\n",
       " 'இது ஒரு மிகப்பெரிய பணி.',\n",
       " 'இரண்டாவது காலாண்டில், நமது மொத்த உள்நாட்டு உற்பத்தி ஆண்டுக்கு 12.6% குறைந்து சாதனை படைத்துள்ளது.',\n",
       " 'இந்த வருடத்தில் நான்கு வரவு செலவுத் திட்டங்கள் மோசமான பாதிப்பைத் தள்ளி வைத்துள்ளன.',\n",
       " 'ஆனால், இதுவரை நிறுவனங்களை செயல்படவிடாமல் செய்து, ஆட்குறைப்பு நடவடிக்கைகளைக் குறைத்துள்ளோம்.',\n",
       " 'ஆனால் பொருளாதார நிலை தொடர்ந்து கடினமாக இருக்கும், மேலும் பல வேலைகளை நாம் இழக்க வேண்டும் என்று எதிர்பார்க்க வேண்டும்.',\n",
       " 'எங்களால் இயன்றவரை சேமிக்கவும், இன்னும் வேலை இழக்கும் தொழிலாளர்களுக்கு புதிய வேலை கிடைக்கவும் எங்களால் இயன்றவரை உதவுவோம்.',\n",
       " 'இந்த முக்கியப் பணியில் தொழிற்சங்கங்கள், வர்த்தக சங்கங்கள் மற்றும் அரசு முகமைகளுடன் தேசிய வேலை வாய்ப்பு கவுன்சில் அவசரமாகச் செயல்பட்டு வருகிறது.',\n",
       " 'COVID-19 ஆல் மூடப்பட்ட வணிகங்கள் மீண்டும் தொடங்கவும் நாங்கள் உதவுவோம்.',\n",
       " 'குறிப்பாக, குடிபெயர்ந்த தொழிலாளர்கள் தங்கும் விடுதிகளில் ஏற்பட்ட தொற்று காரணமாக கட்டுமானத் துறை மிகவும் மோசமாக பாதிக்கப்பட்டுள்ளது.',\n",
       " 'நாங்கள் கிட்டத்தட்ட டோர்ம்களில் உள்ள அனைத்து புலம்பெயர்ந்த பணியாளர்களையும் சோதித்து, COVID-19 டோர்ம்களை அகற்றியுள்ளோம்.',\n",
       " 'மேலும், நோய்க் கிருமிகளைக் கட்டுக்குள் வைத்திருக்கும் நிலையில், தொழிலாளர்கள் விரைவில் வேலைக்குத் திரும்பும் வகையில், பாதுகாப்பான வாழ்க்கை மற்றும் வேலைச் சூழ்நிலைகளை ஏற்படுத்த அதிகபட்ச முயற்சிகளை மேற்கொண்டு வருகிறோம்.',\n",
       " 'ஆனால் அது மிகவும் சிக்கலான பணியாகும், எங்களது சிறந்த முயற்சிகள் இருந்தபோதிலும், அதை முடிக்க இன்னும் சில வாரங்கள் ஆகும்.',\n",
       " 'இதனிடையே, முதலாளிகளுக்கு விதிக்கப்படும் வரி மற்றும் கட்டணச் சுமையை குறைத்து, அவர்கள் மீண்டும் தங்கள் காலில் விழ அரசு உதவும்.',\n",
       " 'இது முதலாளிகளுக்கு மட்டுமே நியாயம்.',\n",
       " 'அவர்களில் பலர் சிறிய துணை ஒப்பந்தக்காரர்கள்.',\n",
       " 'COVID-19-இல் இருந்து நம் அனைவரையும் பாதுகாப்பதில் அவர்கள் அளவுக்கதிகமான பங்கைக் கொண்டுள்ளனர்.',\n",
       " 'பிறகு, சுற்றுலா, விமானப் போக்குவரத்து போன்ற சர்வதேச எல்லைகள் மூடப்பட்டதால் கடுமையாகப் பாதிக்கப்பட்ட துறைகள் உள்ளன.',\n",
       " 'அவர்களது உடல் நலம் மெதுவாக இருக்கும்.',\n",
       " 'அவற்றைத் தடுப்பதற்குப் பெரிய அளவில் உள்நாட்டுச் சந்தை இல்லாமல், சர்வதேசச் சந்தையையே அவை பெரிதும் நம்பியுள்ளன.',\n",
       " 'ஆனால், இந்தத் துறைகள் நமது பொருளாதாரத்தின் வேறு பல பகுதிகளுடனும் தொடர்பு கொண்டிருப்பதால், இந்தத் துறைகள் பின்னோக்கிச் செல்வதற்கு உதவ நாங்கள் உறுதியாக இருக்கிறோம்.',\n",
       " 'எனவேதான் வரவு செலவுத் திட்டங்களில் அவர்களுக்கு ஆதரவாக 2 பில்லியன் டாலர்களை அரசு ஒதுக்கியது.',\n",
       " 'சில தொழிற்சாலைகள் முன்பு இருந்த நிலைக்குத் திரும்பாமல் இருப்பதற்கும் நாம் தயாராக இருக்க வேண்டும்.',\n",
       " 'அப்போது அரசு கடினமான தேர்வுகளை எதிர்கொள்ள நேரிடும், அதனால் தொழில்களும் பாதிக்கப்படும்.',\n",
       " 'காலவரையின்றி தோல்வியுறும் தொழில்களுக்கு முட்டுக்கொடுக்கவோ, இனிமேல் சாத்தியமில்லாத வேலைகளில் தொழிலாளர்களை சிக்க வைக்கவோ நம்மால் இயலாது.',\n",
       " 'புதிய திறன்களை வளர்க்கவும், புதிய தொழில்களை வளர்க்கவும், புதிய வேலைவாய்ப்புகளை உருவாக்கவும் நமது வளங்களை முதலீடு செய்வதே சிறந்த, நீண்டகால தீர்வாகும்.',\n",
       " 'அதன் பிறகு சரிந்து வரும் தொழில்களில் உள்ள நிறுவனங்கள் தங்களை புதுப்பித்துக் கொள்ள அல்லது வர்த்தகத்தின் பிற துறைகளுக்குச் செல்ல உதவலாம்.',\n",
       " 'உருவாக்கப்படும் புதிய வேலைகளுக்காக இந்தத் தொழில்களில் உள்ள தொழிலாளர்கள் மீண்டும் வேலை செய்ய நாமும் உதவுவோம்.',\n",
       " 'இதை நாங்கள் COVID-19-க்கு முன்பே, ஸ்கில்ஸ் ஃப்யூச்சர் மூலம் செய்து கொண்டிருந்தோம்.',\n",
       " 'ஆனால் இப்பொழுது அவசரம் அதிகமாகிவிட்டது, நாம் நமது முயற்சிகளை இரட்டிப்பாக்க வேண்டும்.',\n",
       " 'எதிர்காலத்தை நோக்கிய நிலையில், தற்போது காணப்படும் நெருக்கடிக்கு அப்பால், அரசாங்கமும் எதிர்காலத்தை உறுதியாகப் பார்க்க வேண்டும்.',\n",
       " 'ஒரு நாள், கொள்ளை நோய் முற்றும், பொருளாதார நெருக்கடியும் நீங்கும்.',\n",
       " 'அந்த நாள் வரும்போது, நாம் COVID-19க்குப் பிந்தைய உலகிற்குத் தயாராக இருக்க வேண்டும்.',\n",
       " 'நமது நோக்கம் புயலில் இருந்து தப்பிப்பது மட்டும் அல்ல, நமது நாட்டிற்கு நீண்டகாலத் திசையை அமைப்பதும் ஆகும்.',\n",
       " 'நாம் சிங்கப்பூரை, வருடாவருடம், தலைமுறை தலைமுறையாக மேம்படுத்திக்கொண்டே இருக்க வேண்டும்.',\n",
       " 'இவ்வாறு, நமது பொருளாதாரத்தை மாற்றியமைப்பதற்கும், நமது திறமைகளை மேம்படுத்துவதற்கும், நமது முத்தரப்பு கூட்டாளிகளுடன் இணைந்து செயல்படுவதற்கும் நாம் அழுத்தம் கொடுக்க வேண்டும்.',\n",
       " 'இது சிங்கப்பூரர்கள் மிகவும் புதிய வாய்ப்புகளை உருவாக்கவும், புதிய நிலையற்ற தன்மைகளைச் சமாளிக்கவும், அவர்களின் வாழ்க்கையை மேம்படுத்தவும் உதவும்.',\n",
       " 'பொருளாதார வளத்துக்கு அப்பாற்பட்டு, நமது நாட்டின் மீது சிங்கப்பூரர்கள் வைத்துள்ள பரந்த லட்சியங்களையும் நாம் நிறைவேற்ற வேண்டும்.',\n",
       " 'அனைவருக்குமான வாய்ப்புகளுடன், நியாயமான, நீதியான சமூகமாக இருக்கவே நாங்கள் விரும்புகிறோம்.',\n",
       " 'நாம் ஒருவரை ஒருவர் எதிர்பார்க்கும், உதவி தேவைப்படுபவர்களைச் சென்றடையும், ஒவ்வொரு சிங்கப்பூரருக்கும் நமது எதிர்காலத்திலும் பங்கு உண்டு என்பதை உணர்த்தும், அனைவரையும் உள்ளடக்கிய சமூகத்தை உருவாக்க விரும்புகிறோம்.',\n",
       " 'சிங்கப்பூரர்கள் தங்கள் குழந்தைகள் தங்களைவிடச் சிறந்த வாழ்க்கையைப் பெறுவார்கள், மனித உணர்வு செழிக்கும் என்று எப்போதும் நம்பும் ஒரு இல்லமாக இதை மாற்ற நாங்கள் விரும்புகிறோம்.',\n",
       " 'இந்த தேசத்தைத்தான் நாம் ஒன்றிணைத்து உருவாக்கி வருகிறோம்.',\n",
       " 'இந்த நம்பிக்கைகள் மற்றும் கனவுகளை அடைய, நமது அரசியல் அமைப்பு சிங்கப்பூருக்கு தொடர்ந்து சிறப்பாக செயல்பட வேண்டும்.',\n",
       " 'சிங்கப்பூரர்களிடையே அரசியலில் அதிக அளவு பன்முகக் கருத்துகள் இருக்க வேண்டும் என்ற வலுவான விருப்பத்தை இந்தத் தேர்தல் வெளிப்படுத்தியுள்ளது.',\n",
       " 'பொதுஜன பெரமுன கட்சி ஆட்சி அமைக்க வேண்டும் என்று வாக்காளர்கள் விரும்புகிறார்கள், ஆனால் கொள்கைகள் மற்றும் திட்டங்கள் குறித்து இன்னும் வலுவான விவாதம் நடத்தப்பட வேண்டும் என்றும் அவர்கள் விரும்புகிறார்கள்.',\n",
       " 'இந்தப் போக்கு நீடிக்கவே செய்கிறது.',\n",
       " 'நாம் அதற்கு வெளிப்பாட்டைக் கொடுத்து, அதற்கு இடமளிக்கும் வகையில் நமது அரசியல் அமைப்பை உருவாக்க வேண்டும், அதேசமயம் நமது ஒருமைப்பாட்டையும், தேசிய நோக்கத்தையும் பராமரிக்க வேண்டும்.',\n",
       " 'இந்த புதிய நாடாளுமன்றத்தில் மொத்தம் 12 எதிர்க்கட்சி எம். பி. க்கள் இருப்பார்கள், இது சமீபத்திய வரலாற்றில் மிகப்பெரிய எண்ணிக்கையாகும்.',\n",
       " 'பத்து பேர் தொழிலாளர் கட்சியைச் சேர்ந்த தொகுதி எம். பி. க்கள், இரண்டு பேர் முன்னேற்ற சிங்கப்பூர் கட்சியைச் சேர்ந்த தேசிய மாநாட்டுக் கட்சி எம். பி. க்கள்.',\n",
       " 'எதிர்க்கட்சித் தலைவர் ஒருவரை முறைப்படி நியமித்து, அவரது பணியைச் செய்ய அவருக்கு ஊழியர்களின் உதவியையும், வளங்களையும் வழங்குவோம்.',\n",
       " 'நாடாளுமன்றத்தில் இன்னும் தீவிரமான, ஆனால் ஆக்கப்பூர்வமான விவாதங்களை எதிர்பார்க்கிறேன்.',\n",
       " 'பொறுப்பான மற்றும் விசுவாசமான எதிர்க்கட்சி என்ற பாத்திரத்தை ஆற்றுவதற்கு குறுக்கும் நெடுக்குமான நமது சகாக்கள் முன்வருவார்கள் என்று நான் நம்புகிறேன்.',\n",
       " 'இந்தச் செயற்பாடுகளுக்குத் தேவையான விமர்சனங்களை எழுப்புவதும், அரசிடம் கேள்விகள் கேட்பதும் மட்டுமே அவர்களின் கடமையாகாது.',\n",
       " 'ஆனால், மிக முக்கியமாக, ஆய்வு செய்யப்பட்டு, விவாதிக்கப்பட வேண்டிய தீவிரமான கொள்கை மாற்றீடுகளை முன்வைக்க வேண்டும்.',\n",
       " 'இதன் மூலம், பிரச்சினைகள், தேர்வுகள் மற்றும் வர்த்தகப் பரிமாற்றங்களை வாக்காளர்கள் நன்கு புரிந்துகொள்வதற்கு நம்மால் உதவ முடியும்.',\n",
       " 'இந்தச் செயல்பாட்டில், கொள்கைகளையும் திட்டங்களையும் மேம்படுத்தி, சிங்கப்பூருக்கு சிறப்பான விளைவுகளை ஏற்படுத்த வேண்டும்.',\n",
       " 'சிங்கப்பூருக்கான ஒரு வலிமையான அணியைத் தேர்ந்தெடுப்பது நல்ல அரசியல் என்பது ஒலி அமைப்புகளை மட்டும் சார்ந்தது அல்ல, உயர்தரமான அரசியல் தலைமையையும் சார்ந்தது.',\n",
       " 'மற்ற நாடுகளைவிட, சிங்கப்பூருக்குத் திறமையும், உறுதியும் உள்ள தலைவர்களும், தங்கள் மனவுறுதிக்குத் துணிவும், சிங்கப்பூரர்களின் மரியாதைக்குத் தலைமை தாங்குபவரும், மக்களை ஒன்று திரட்டிப் பெரிய சாதனைகளை நிகழ்த்தக்கூடிய ஆண்களும், பெண்களும் தேவை.',\n",
       " 'இந்த தேர்தலில், நீங்கள் எனக்கும், எனது பொதுஜன பெரமுன கட்சிக்கும் வாக்களித்துள்ளீர்கள்.',\n",
       " 'இந்த நெருக்கடியிலும், அதையும் தாண்டிய நிலையில் சிங்கப்பூரை எடுத்துச்செல்ல, உங்கள் ஆணைப்படி, என்னால் முடிந்த வலிமையான அமைச்சரவையை நான் அமைத்திருக்கிறேன்.',\n",
       " 'நான் அமைத்துள்ள அமைச்சரவை, பன்முகத்தன்மை கொண்ட ஒரு குழு, நமது பன்முகத்தன்மையுள்ள சமூகத்தின் பிரதிபலிப்பு.',\n",
       " '20 முழு அமைச்சர்களில் 7 பேர் சீனர்கள் அல்லாதவர்கள்.',\n",
       " 'சிறுபான்மை சமூகத்தைச் சேர்ந்த, தலைமை நீதிபதி கலந்து கொண்ட நிலையில், நாங்கள் குடியரசுத் தலைவர் முன் பதவியேற்றுள்ளோம்.',\n",
       " 'இனம், மொழி, மதம் ஆகியவற்றைப் பொருட்படுத்தாமல், ஒவ்வொரு குடிமகனுக்கும் சமமான சிகிச்சை மற்றும் வாய்ப்புகளை உறுதிப்படுத்தும் வகையில், நமது தகுதிநிலை அமைப்பு எவ்வாறு செயல்படுகிறது, நாம் சென்ற காலங்கள் ஆகியவை குறித்து இதைவிடத் தெளிவான நிரூபணம் எதுவும் இருக்க முடியாது.',\n",
       " 'எனது அமைச்சரவையில் அடுத்தடுத்த தலைமுறைகளைச் சேர்ந்த அமைச்சர்கள் மற்றும் பதவி வகிப்பவர்களும் அடங்குவார்கள்.',\n",
       " 'மூத்தவர்கள் கடந்த கால நெருக்கடிகளின் மூலம் சிங்கப்பூரைப் பார்த்ததுடன், நாம் இப்போது எதிர்கொள்ளும் சவால்களைச் சமாளிக்க மதிப்புமிக்க வழிகாட்டுதல்களையும் கருத்துகளையும் வழங்க முடியும்.',\n",
       " 'இளைய அமைச்சர்கள் அதிக அளவில் முன்னிலை வகிக்கிறார்கள், நிகழ்ச்சி நிரலை உருவாக்குகிறார்கள், சிங்கப்பூரர்களை ஈடுபடுத்துகிறார்கள், உதாரணத்திற்கு எஸ்ஜி டுகெதர் இயக்கம் மற்றும் வளர்ந்து வரும் வலிமையான உரையாடல்கள் மூலம்.',\n",
       " 'அவர்கள் நமது COVID-19 எதிர்வினையையும் வழிநடத்தி வருகிறார்கள், மேலும் கொள்ளைநோயின் சிக்கலான சவால்களை எதிர்கொள்ளும் நம்பிக்கையைப் பெற்றார்கள்.',\n",
       " 'புதிய பதவி ஏற்பவர்கள், தங்களுடன் புதிய கருத்துகளையும், கண்ணோட்டங்களையும் கொண்டு வருவதுடன், பிரச்சினைகளை சமாளிக்க கடினமாக உழைப்பார்கள்.',\n",
       " 'சிங்கப்பூரர்கள் தன்னம்பிக்கையுடன் செயல்படக்கூடிய இந்தக் குழு, இந்தப் பயணத்தின் ஒவ்வொரு படியிலும் உங்களுடன் நடைபோடும்.',\n",
       " 'மேடம் அதிபர் அவர்களே, நான் என் இளமைக்கால வாழ்க்கை முழுவதையும் பொதுப்பணித் துறையில்தான் கழித்தேன்.',\n",
       " 'சிங்கப்பூரர்கள், இளைஞர்கள் மற்றும் வயதானவர்களின் ஆதரவிலிருந்து வலிமையையும் நோக்கத்தையும் பெற்று, நான் எனது நாட்டிற்கும் மக்களுக்கும் தொடர்ந்து அர்ப்பணிப்பேன்.',\n",
       " 'இந்த நெருக்கடியின் மூலம், நாட்டை மேலும் முன்னேற்றப் பாதையில் கொண்டு செல்லக்கூடிய சிங்கப்பூரை, தொய்வின்றி, செயலாக்கத்துடன் நல்ல முறையில் ஒப்படைக்க வேண்டும் என்பதே எனது நோக்கம்.',\n",
       " 'இத்தனை வருடங்களாக நீங்கள் எனக்கு அளித்த அதே ஆதரவை இளைய அமைச்சர்களுக்கும் வழங்குமாறு சிங்கப்பூரர்களைக் கேட்டுக் கொள்கிறேன்.',\n",
       " 'ஆனால், தலைமைத்துவத்தை புதுப்பிப்பது என்பது ஒருபோதும் முடிவடையாத பணியாகும்.',\n",
       " 'முன்னோக்கிச் செல்லவும், தேர்தலில் நிற்கவும், நமது நாட்டிற்குச் சேவையாற்றவும் ஒவ்வொரு தலைமுறையைச் சேர்ந்த அதிகமான நல்லவர்கள் நமக்குத் தொடர்ந்து தேவைப்படுகிறார்கள்.',\n",
       " 'அரசியலில் சலிப்பையும், சலிப்பையும் ஏற்படுத்தக்கூடிய தலைவர்கள் சிங்கப்பூரில் இருக்க வேண்டும், அவர்கள் தாங்கள் நம்புவதற்காக உழைக்கவும், போராடவும் தங்களது அனைத்து சக்திகளையும் அர்ப்பணிக்க வேண்டும்.',\n",
       " 'சிங்கப்பூரர்களுடன் நெருக்கமாகப் பணியாற்றும், அசாதாரணமான தலைமைத்துவக் குழு ஒன்று இருந்தால்தான், உலகில் நாம் தொடர்ந்து நிலைத்து நிற்க முடியும்.',\n",
       " 'சுதந்திரம் அடைந்து 55 வருடங்களில் சில நாடுகள் சாதித்த சாதனைகளை நாம் நிறைவு செய்கிறோம்.',\n",
       " 'அமைதியான, பன்முகத் தன்மை கொண்ட சமுதாயம்.',\n",
       " 'வாஸ்துப்படி எல்லாருக்கும் நல்லதே நடக்கும்.',\n",
       " 'நம்மைப் பாதித்த ஒவ்வொரு நெருக்கடிக்குப் பிறகும், வலுவடைந்து, சிறப்பாகச் செயல்படத் தீர்மானித்தல்.',\n",
       " 'இனி ஒரே சிங்கப்பூராக ஒன்றிணைவோம்.',\n",
       " 'நமது வாழ்க்கையை மேம்படுத்துவது, நமது எதிர்காலத்தை பாதுகாப்பது மற்றும் ஒரு தேசத்தை உருவாக்குவது ஆகியவற்றைத் தொடருங்கள், நாம் அனைவரும் வீட்டுக்கு அழைப்பதில் பெருமை கொள்ளலாம்.',\n",
       " 'நன்றி.']"
      ]
     },
     "execution_count": 10,
     "metadata": {},
     "output_type": "execute_result"
    }
   ],
   "source": [
    "# Check results of 1 speech translation\n",
    "speeches_translated['Translation'].values[1]"
   ]
  },
  {
   "cell_type": "code",
   "execution_count": 11,
   "metadata": {},
   "outputs": [
    {
     "data": {
      "text/plain": [
       "'Singaporeans have just gone through a crucial General Election, held in the midst of a tremendous crisis. We have been through six difficult months, dealing with COVID-19, and the economic downturn precipitated by the virus. I called this election to give the government a fresh mandate and a full term, to deal with the difficult months and years that still lie ahead. Singaporeans understood what was at stake. They considered carefully what the candidates and parties had to offer. And on Polling Day, voters turned out in full strength. They gave the PAP a clear mandate to form the government. My team and I are humbled that Singaporeans have entrusted us with this heavy responsibility. We will use our mandate to act on your behalf, vigorously and unremittingly, to deal with the challenges ahead, and lead Singapore out of the crisis. The work of our new Cabinet and government has already begun. The elections are behind us. Whatever our political persuasions, never forget that we are first and foremost Singaporeans. Let us all unite and focus our energies on the major challenges ahead. Big Challenges Ahead On the public health front, COVID-19 remains a serious problem. The global situation has taken a further turn for the worse, with both new infections and deaths continuing to climb. Even cities that initially brought the virus under control, like Hong Kong and Seoul, have suffered repeat outbreaks, after they eased safe distancing measures and reopened their economies. It shows just how difficult it will be for Singapore to keep ourselves free from the virus. And this is why, as we gradually restore economic activity, re-open our borders, and resume our lives, we are also building up our capacities to test and contact trace, so that we can identify and stamp out new outbreaks quickly. But each one of us still needs to play our own part, stay vigilant, practise safe distancing and minimise social interactions. That is how we can protect the health and the lives of our loved ones, especially our elderly. At the same time, we have to get our economy going again. This is an enormous task. In the second quarter, our GDP shrank a record 12.6% year on year. The four Budgets this year have staved off the worst of the damage. But we have kept companies afloat, and minimised retrenchments so far. But economic conditions will continue to be difficult, and we must expect to lose many more jobs. We will do our best to save as many as we can, and help workers who still lose their jobs to find new work. The National Jobs Council is urgently working with the unions, business associations and government agencies on this vital task. We will also help businesses that have been shut down by COVID-19 to start up again. In particular, the construction sector has been badly affected by the outbreak in the migrant worker dormitories. We have almost completed testing all the migrant workers in the dorms, and clearing the dorms of COVID-19. And we are exerting maximum effort to establish safe living and working conditions, so that the workers can get back to work as soon as possible, while keeping the virus in check. But it is a very complicated task, and despite our best efforts, will take a few weeks more to complete. In the meantime, the government will lighten the burden of levies and fees on their employers, and help them get back on their feet. This is only fair to the employers. Many of them are small sub-contractors. They are bearing a disproportionate share of the burden of keeping all of us safe from COVID-19. Then there are sectors that have been hard hit by the closure of international borders, like tourism and aviation. Their recoveries will be slow. They rely heavily on the international market, without a large domestic market to buffer them. But we are determined to help these sectors pull through, as they are linked to many other parts of our economy. That is why the government put aside close to $2 billion in the Budgets to support them. We must also be prepared that some industries will not return to what they were before. Then the government will face difficult choices, and so will the businesses themselves. We cannot afford to prop up failing industries indefinitely, or trap workers in jobs that are no longer viable. The better, long-term solution is to invest our resources to develop new capabilities, grow new industries and create new jobs. Then we can help firms in declining industries to reinvent themselves or pivot to other fields of business. We will also help workers in these industries reskill for the new jobs created. We were already doing this even before COVID-19, through SkillsFuture. But now the urgency is greater, and we must redouble our efforts. Looking towards the future Beyond the ongoing crisis, the government must also keep our eyes firmly on the future. One day, the pandemic will be over, and the economic crisis will pass. When that day comes, we have to be ready for the post-COVID-19 world. Our aim is not just to survive the storm, but also to set the long-term direction for our country. We must keep on improving Singapore, year after year, generation after generation. Thus, we must press on with transforming our economy and upgrading our skills, working with our tripartite partners. This will help Singaporeans make the most of new opportunities, cope with new uncertainties, and improve their lives. And beyond economic prosperity, we must also fulfil the broader ambitions Singaporeans have for our country. We aspire to be a fair and just society, with opportunities for all. We wish to fashion an inclusive community, where we look out for one another, reach out to those who need help, and show every Singaporean that they have a stake in our future. We want to make this a home where Singaporeans always believe that their children will have better lives than themselves, and the human spirit can flourish. This is the nation we are building together. To achieve these hopes and dreams, our political system must continue to work well for Singapore. The election has shown a strong desire amongst Singaporeans for greater diversity of views in politics. Voters want the PAP to form the government, but they also want more robust debate of policies and plans. This trend is here to stay. We have to give expression to it, and evolve our political system to accommodate it, while maintaining our cohesion and sense of national purpose. This new Parliament will have a total of 12 Opposition MPs, the largest number in recent history. Ten are constituency MPs from the Workers’ Party, and two are NCMPs from the Progress Singapore Party. We will formally designate a Leader of the Opposition, and provide him with staff support and resources to perform his role. I look forward to more vigorous but constructive debates in Parliament. I hope our colleagues across the aisle will step up to play their role of a responsible and loyal opposition. Their duty is not merely to raise criticisms and ask questions of the government, necessary as these functions are. But also, more importantly, to put forward serious policy alternatives to be scrutinised and debated. This way, we can help voters better understand the issues, choices and trade-offs. And in the process, improve policies and plans, and deliver better outcomes for Singapore. Assembling a strong team for Singapore Good politics depends not only on sound institutions, but also on high quality political leadership. More than other countries, Singapore needs leaders who are capable and committed, men and women who have the courage of their convictions, who command the respect of Singaporeans and who can mobilise the population to achieve great things together. In this election, you have voted for me and my PAP team. With your mandate, I have formed the strongest Cabinet I could, to take Singapore through this crisis and beyond. The Cabinet I have formed is a multiracial team, reflective of our multiracial society. 7 out of 20 full ministers are non-Chinese. We have been sworn in before the President, with the Chief Justice in attendance, who both belong to minority communities. There can be no more vivid demonstration of how our meritocratic system works, and the lengths we have gone to, to ensure equal treatment and opportunities for every citizen, regardless of race, language or religion. My Cabinet also includes Ministers and office holders from successive generations. The more senior ones have seen Singapore through past crises, and can offer valuable guidance and views to help overcome the challenges we now face. The younger Ministers are increasingly taking the lead, setting the agenda and engaging Singaporeans, for example through the SG Together movement and the Emerging Stronger Conversations. They have also been leading our COVID-19 response, and gained confidence dealing with the complex challenges of the pandemic. The new office holders will bring with them fresh ideas and perspectives, and work hard to master the issues. It is a team that Singaporeans can be confident in, and one that will walk with you every step of this journey. Madam President, I have spent my entire adult life in public service. I will continue to devote myself to my country and people, drawing strength and purpose from the support of Singaporeans, young and old. My aim is to see through this crisis, and hand over Singapore, intact and in working order, into good hands who can take the country further forward. I ask Singaporeans to extend to the younger Ministers the same support that you have given me all these years. But leadership renewal is a never-ending task. We continue to need more good people from every generation to step forward, stand for election, and serve our country. Singapore must have leaders who can take the rough and tumble of politics, and who will commit all their energies to work and fight for what they believe in. Only with an exceptional leadership team, working closely with Singaporeans, can we continue to stand out in the world. Conclusion We have achieved what few countries have in our 55 years since independence. A peaceful, multiracial society. Vastly better lives for all. Emerging stronger, and resolving to do better, after every crisis that has hit us. Let us now come together as one Singapore. Keep improving our lives, securing our future and building a nation we can all be proud to call home. Thank you.'"
      ]
     },
     "execution_count": 11,
     "metadata": {},
     "output_type": "execute_result"
    }
   ],
   "source": [
    "# English version for comparison\n",
    "\n",
    "speeches_translated['Text'].values[1]"
   ]
  },
  {
   "cell_type": "markdown",
   "metadata": {},
   "source": [
    "# 2. TRANSLATE ENGLISH NEWS STORIES TO TAMIL\n",
    "\n",
    "One likely use case of batch machine translation would be for newsrooms to convert their English-language stories to multiple languages without having to hire an army of translators. Let's try that here."
   ]
  },
  {
   "cell_type": "code",
   "execution_count": 12,
   "metadata": {},
   "outputs": [],
   "source": [
    "# this dataset is in the repo and was used in earlier machine translation exercises \n",
    "stories = pd.read_csv('../data/cna_sample.csv')"
   ]
  },
  {
   "cell_type": "code",
   "execution_count": 13,
   "metadata": {},
   "outputs": [
    {
     "data": {
      "text/html": [
       "<div>\n",
       "<style scoped>\n",
       "    .dataframe tbody tr th:only-of-type {\n",
       "        vertical-align: middle;\n",
       "    }\n",
       "\n",
       "    .dataframe tbody tr th {\n",
       "        vertical-align: top;\n",
       "    }\n",
       "\n",
       "    .dataframe thead th {\n",
       "        text-align: right;\n",
       "    }\n",
       "</style>\n",
       "<table border=\"1\" class=\"dataframe\">\n",
       "  <thead>\n",
       "    <tr style=\"text-align: right;\">\n",
       "      <th></th>\n",
       "      <th>Source</th>\n",
       "      <th>Date</th>\n",
       "      <th>Story_Headline</th>\n",
       "      <th>Story_Text</th>\n",
       "      <th>Word_Count</th>\n",
       "      <th>URL</th>\n",
       "    </tr>\n",
       "  </thead>\n",
       "  <tbody>\n",
       "    <tr>\n",
       "      <th>0</th>\n",
       "      <td>CNA</td>\n",
       "      <td>2020-03-19</td>\n",
       "      <td>Wuhan's new COVID-19 cases could cease by mid-...</td>\n",
       "      <td>SHANGHAI: Wuhan is expected to see new coronav...</td>\n",
       "      <td>315</td>\n",
       "      <td>https://www.channelnewsasia.com/news/asia/coro...</td>\n",
       "    </tr>\n",
       "    <tr>\n",
       "      <th>1</th>\n",
       "      <td>CNA</td>\n",
       "      <td>2020-03-04</td>\n",
       "      <td>Researchers identify two novel coronavirus typ...</td>\n",
       "      <td>SHANGHAI: Scientists in China studying the vir...</td>\n",
       "      <td>481</td>\n",
       "      <td>https://www.channelnewsasia.com/news/asia/covi...</td>\n",
       "    </tr>\n",
       "    <tr>\n",
       "      <th>2</th>\n",
       "      <td>CNA</td>\n",
       "      <td>2020-03-05</td>\n",
       "      <td>Bethlehem's Church of the Nativity ordered clo...</td>\n",
       "      <td>BETHLEHEM: The Church of the Nativity was orde...</td>\n",
       "      <td>436</td>\n",
       "      <td>https://www.channelnewsasia.com/news/world/cor...</td>\n",
       "    </tr>\n",
       "    <tr>\n",
       "      <th>3</th>\n",
       "      <td>CNA</td>\n",
       "      <td>2020-03-19</td>\n",
       "      <td>NATAS travel fair in May cancelled as COVID-19...</td>\n",
       "      <td>SINGAPORE: Amid a COVID-19 outbreak that has p...</td>\n",
       "      <td>301</td>\n",
       "      <td>https://www.channelnewsasia.com/news/singapore...</td>\n",
       "    </tr>\n",
       "    <tr>\n",
       "      <th>4</th>\n",
       "      <td>CNA</td>\n",
       "      <td>2020-03-12</td>\n",
       "      <td>China's coronavirus epicentre Hubei sees singl...</td>\n",
       "      <td>BEIJING: China confirmed only eight new corona...</td>\n",
       "      <td>425</td>\n",
       "      <td>https://www.channelnewsasia.com/news/asia/coro...</td>\n",
       "    </tr>\n",
       "  </tbody>\n",
       "</table>\n",
       "</div>"
      ],
      "text/plain": [
       "  Source        Date                                     Story_Headline  \\\n",
       "0    CNA  2020-03-19  Wuhan's new COVID-19 cases could cease by mid-...   \n",
       "1    CNA  2020-03-04  Researchers identify two novel coronavirus typ...   \n",
       "2    CNA  2020-03-05  Bethlehem's Church of the Nativity ordered clo...   \n",
       "3    CNA  2020-03-19  NATAS travel fair in May cancelled as COVID-19...   \n",
       "4    CNA  2020-03-12  China's coronavirus epicentre Hubei sees singl...   \n",
       "\n",
       "                                          Story_Text  Word_Count  \\\n",
       "0  SHANGHAI: Wuhan is expected to see new coronav...         315   \n",
       "1  SHANGHAI: Scientists in China studying the vir...         481   \n",
       "2  BETHLEHEM: The Church of the Nativity was orde...         436   \n",
       "3  SINGAPORE: Amid a COVID-19 outbreak that has p...         301   \n",
       "4  BEIJING: China confirmed only eight new corona...         425   \n",
       "\n",
       "                                                 URL  \n",
       "0  https://www.channelnewsasia.com/news/asia/coro...  \n",
       "1  https://www.channelnewsasia.com/news/asia/covi...  \n",
       "2  https://www.channelnewsasia.com/news/world/cor...  \n",
       "3  https://www.channelnewsasia.com/news/singapore...  \n",
       "4  https://www.channelnewsasia.com/news/asia/coro...  "
      ]
     },
     "execution_count": 13,
     "metadata": {},
     "output_type": "execute_result"
    }
   ],
   "source": [
    "stories.head()"
   ]
  },
  {
   "cell_type": "markdown",
   "metadata": {},
   "source": [
    "## 2.1 CLEAN TEXT\n",
    "\n",
    "Additional rules added to strip out promos and ads."
   ]
  },
  {
   "cell_type": "code",
   "execution_count": 14,
   "metadata": {},
   "outputs": [],
   "source": [
    "def clean_stories(text):\n",
    "    text = re.sub(r\"\\n\", \" \", text)\n",
    "    text = re.sub(r\"\\n\\n\", \" \", text)\n",
    "    text = re.sub(r\"Advertisement\", \" \", text)\n",
    "    text = re.sub(\n",
    "        r\"Download our app or subscribe to our Telegram channel for the latest updates on the coronavirus outbreak: https://cna.asia/telegram\",\n",
    "        \" \",\n",
    "        text,\n",
    "    )\n",
    "    text = re.sub(\n",
    "        r\"Download our app or subscribe to our Telegram channel for the latest updates on the COVID-19 outbreak: https://cna.asia/telegram\",\n",
    "        \" \",\n",
    "        text,\n",
    "    )\n",
    "    text = text.strip(\" \")\n",
    "    text = re.sub(\n",
    "        \" +\", \" \", text\n",
    "    ).strip()  # gets rid of multiple spaces and replace with a single\n",
    "    return text\n",
    "\n",
    "stories[\"Story_Text\"] = stories['Story_Text'].map(lambda text: clean_stories(text))"
   ]
  },
  {
   "cell_type": "markdown",
   "metadata": {},
   "source": [
    "## 2.2 TRANSLATE"
   ]
  },
  {
   "cell_type": "code",
   "execution_count": 15,
   "metadata": {},
   "outputs": [
    {
     "name": "stdout",
     "output_type": "stream",
     "text": [
      "CPU times: user 2min 12s, sys: 1.07 s, total: 2min 13s\n",
      "Wall time: 35.5 s\n"
     ]
    }
   ],
   "source": [
    "%%time\n",
    "stories['Headline_Translation'] = stories[\"Story_Headline\"].apply(lambda text: en2ta.translate(text))"
   ]
  },
  {
   "cell_type": "code",
   "execution_count": 16,
   "metadata": {},
   "outputs": [
    {
     "name": "stdout",
     "output_type": "stream",
     "text": [
      "CPU times: user 14min 11s, sys: 24.6 s, total: 14min 35s\n",
      "Wall time: 3min 57s\n"
     ]
    }
   ],
   "source": [
    "%%time\n",
    "stories[\"Story_Translation\"] = stories[\"Story_Text\"].apply(\n",
    "    lambda text: en2ta.translate(sent_tokenize(text))\n",
    ")"
   ]
  },
  {
   "cell_type": "markdown",
   "metadata": {},
   "source": [
    "## 2.3 RE-ORG FOR CLARITY"
   ]
  },
  {
   "cell_type": "code",
   "execution_count": 17,
   "metadata": {},
   "outputs": [],
   "source": [
    "cols2 = [\n",
    "    \"Date\",\n",
    "    \"Source\",\n",
    "    \"Story_Headline\",\n",
    "    \"Headline_Translation\", \n",
    "    \"Story_Text\",\n",
    "    \"Story_Translation\",\n",
    "    \"URL\",\n",
    "]\n",
    "\n",
    "stories_translated = stories[cols2]"
   ]
  },
  {
   "cell_type": "code",
   "execution_count": 18,
   "metadata": {},
   "outputs": [
    {
     "data": {
      "text/html": [
       "<div>\n",
       "<style scoped>\n",
       "    .dataframe tbody tr th:only-of-type {\n",
       "        vertical-align: middle;\n",
       "    }\n",
       "\n",
       "    .dataframe tbody tr th {\n",
       "        vertical-align: top;\n",
       "    }\n",
       "\n",
       "    .dataframe thead th {\n",
       "        text-align: right;\n",
       "    }\n",
       "</style>\n",
       "<table border=\"1\" class=\"dataframe\">\n",
       "  <thead>\n",
       "    <tr style=\"text-align: right;\">\n",
       "      <th></th>\n",
       "      <th>Date</th>\n",
       "      <th>Source</th>\n",
       "      <th>Story_Headline</th>\n",
       "      <th>Headline_Translation</th>\n",
       "      <th>Story_Text</th>\n",
       "      <th>Story_Translation</th>\n",
       "      <th>URL</th>\n",
       "    </tr>\n",
       "  </thead>\n",
       "  <tbody>\n",
       "    <tr>\n",
       "      <th>0</th>\n",
       "      <td>2020-03-19</td>\n",
       "      <td>CNA</td>\n",
       "      <td>Wuhan's new COVID-19 cases could cease by mid-...</td>\n",
       "      <td>வுஹானின் புதிய COVID-19 வழக்குகள் மார்ச் மாதக்...</td>\n",
       "      <td>SHANGHAI: Wuhan is expected to see new coronav...</td>\n",
       "      <td>[ஷாங்காய்: மார்ச் மாதத்தின் மத்தியில் புதிய கொ...</td>\n",
       "      <td>https://www.channelnewsasia.com/news/asia/coro...</td>\n",
       "    </tr>\n",
       "    <tr>\n",
       "      <th>1</th>\n",
       "      <td>2020-03-04</td>\n",
       "      <td>CNA</td>\n",
       "      <td>Researchers identify two novel coronavirus typ...</td>\n",
       "      <td>சீனாவால் பாதிப்புகள் குறைந்து வருவதால் இரண்டு ...</td>\n",
       "      <td>SHANGHAI: Scientists in China studying the vir...</td>\n",
       "      <td>[ஷாங்காய்: புதிய கொரோனா வைரஸின் இரண்டு முக்கிய...</td>\n",
       "      <td>https://www.channelnewsasia.com/news/asia/covi...</td>\n",
       "    </tr>\n",
       "    <tr>\n",
       "      <th>2</th>\n",
       "      <td>2020-03-05</td>\n",
       "      <td>CNA</td>\n",
       "      <td>Bethlehem's Church of the Nativity ordered clo...</td>\n",
       "      <td>COVID-19 அச்சங்கள் குறித்து பெத்லகேமின் நேட்டி...</td>\n",
       "      <td>BETHLEHEM: The Church of the Nativity was orde...</td>\n",
       "      <td>[பெத்லெஹெம்: பாலஸ்தீன நகரான பெத்லெஹெம்மில் COV...</td>\n",
       "      <td>https://www.channelnewsasia.com/news/world/cor...</td>\n",
       "    </tr>\n",
       "    <tr>\n",
       "      <th>3</th>\n",
       "      <td>2020-03-19</td>\n",
       "      <td>CNA</td>\n",
       "      <td>NATAS travel fair in May cancelled as COVID-19...</td>\n",
       "      <td>COVID-19 தொற்று தொடர்ந்து வருவதால் மே மாதத்தில...</td>\n",
       "      <td>SINGAPORE: Amid a COVID-19 outbreak that has p...</td>\n",
       "      <td>[சிங்கபூர்: பல்வேறு நாடுகளையும் பயண ஆலோசனைகளை ...</td>\n",
       "      <td>https://www.channelnewsasia.com/news/singapore...</td>\n",
       "    </tr>\n",
       "    <tr>\n",
       "      <th>4</th>\n",
       "      <td>2020-03-12</td>\n",
       "      <td>CNA</td>\n",
       "      <td>China's coronavirus epicentre Hubei sees singl...</td>\n",
       "      <td>சீனாவின் கொரோனாவைரஸ் மையமான ஹூபே முதல் முறையாக...</td>\n",
       "      <td>BEIJING: China confirmed only eight new corona...</td>\n",
       "      <td>[பீஜிங்: ஹூபே மாகாணத்தில் எட்டு புதிய கொரோனாவை...</td>\n",
       "      <td>https://www.channelnewsasia.com/news/asia/coro...</td>\n",
       "    </tr>\n",
       "  </tbody>\n",
       "</table>\n",
       "</div>"
      ],
      "text/plain": [
       "         Date Source                                     Story_Headline  \\\n",
       "0  2020-03-19    CNA  Wuhan's new COVID-19 cases could cease by mid-...   \n",
       "1  2020-03-04    CNA  Researchers identify two novel coronavirus typ...   \n",
       "2  2020-03-05    CNA  Bethlehem's Church of the Nativity ordered clo...   \n",
       "3  2020-03-19    CNA  NATAS travel fair in May cancelled as COVID-19...   \n",
       "4  2020-03-12    CNA  China's coronavirus epicentre Hubei sees singl...   \n",
       "\n",
       "                                Headline_Translation  \\\n",
       "0  வுஹானின் புதிய COVID-19 வழக்குகள் மார்ச் மாதக்...   \n",
       "1  சீனாவால் பாதிப்புகள் குறைந்து வருவதால் இரண்டு ...   \n",
       "2  COVID-19 அச்சங்கள் குறித்து பெத்லகேமின் நேட்டி...   \n",
       "3  COVID-19 தொற்று தொடர்ந்து வருவதால் மே மாதத்தில...   \n",
       "4  சீனாவின் கொரோனாவைரஸ் மையமான ஹூபே முதல் முறையாக...   \n",
       "\n",
       "                                          Story_Text  \\\n",
       "0  SHANGHAI: Wuhan is expected to see new coronav...   \n",
       "1  SHANGHAI: Scientists in China studying the vir...   \n",
       "2  BETHLEHEM: The Church of the Nativity was orde...   \n",
       "3  SINGAPORE: Amid a COVID-19 outbreak that has p...   \n",
       "4  BEIJING: China confirmed only eight new corona...   \n",
       "\n",
       "                                   Story_Translation  \\\n",
       "0  [ஷாங்காய்: மார்ச் மாதத்தின் மத்தியில் புதிய கொ...   \n",
       "1  [ஷாங்காய்: புதிய கொரோனா வைரஸின் இரண்டு முக்கிய...   \n",
       "2  [பெத்லெஹெம்: பாலஸ்தீன நகரான பெத்லெஹெம்மில் COV...   \n",
       "3  [சிங்கபூர்: பல்வேறு நாடுகளையும் பயண ஆலோசனைகளை ...   \n",
       "4  [பீஜிங்: ஹூபே மாகாணத்தில் எட்டு புதிய கொரோனாவை...   \n",
       "\n",
       "                                                 URL  \n",
       "0  https://www.channelnewsasia.com/news/asia/coro...  \n",
       "1  https://www.channelnewsasia.com/news/asia/covi...  \n",
       "2  https://www.channelnewsasia.com/news/world/cor...  \n",
       "3  https://www.channelnewsasia.com/news/singapore...  \n",
       "4  https://www.channelnewsasia.com/news/asia/coro...  "
      ]
     },
     "execution_count": 18,
     "metadata": {},
     "output_type": "execute_result"
    }
   ],
   "source": [
    "stories_translated.head()"
   ]
  },
  {
   "cell_type": "markdown",
   "metadata": {},
   "source": [
    "## 2.4 CHECK RESULTS"
   ]
  },
  {
   "cell_type": "code",
   "execution_count": 19,
   "metadata": {},
   "outputs": [],
   "source": [
    "# OPTIONAL: output results for closer inspection\n",
    "\n",
    "#stories_translated.to_csv(\"../data/eng_to_tamil_stories.csv\", index=False)"
   ]
  },
  {
   "cell_type": "code",
   "execution_count": 20,
   "metadata": {},
   "outputs": [
    {
     "data": {
      "text/plain": [
       "array(['வுஹானின் புதிய COVID-19 வழக்குகள் மார்ச் மாதக் கடைசியில் நிறுத்தப்படலாம்: அறிக்கை',\n",
       "       'சீனாவால் பாதிப்புகள் குறைந்து வருவதால் இரண்டு புதிரான கொரோனாவைரஸ் வகைகளை ஆராய்ச்சியாளர்கள் அடையாளம் காண்கின்றனர்',\n",
       "       'COVID-19 அச்சங்கள் குறித்து பெத்லகேமின் நேட்டிவிட்டி தேவாலயம் மூட உத்தரவு',\n",
       "       'COVID-19 தொற்று தொடர்ந்து வருவதால் மே மாதத்தில் நடாஸ் பயணக் கண்காட்சி ரத்து',\n",
       "       'சீனாவின் கொரோனாவைரஸ் மையமான ஹூபே முதல் முறையாக ஒற்றை இலக்க வழக்குகளைக் காண்கிறது'],\n",
       "      dtype=object)"
      ]
     },
     "execution_count": 20,
     "metadata": {},
     "output_type": "execute_result"
    }
   ],
   "source": [
    "# check translated headlines\n",
    "stories_translated['Headline_Translation'].values"
   ]
  },
  {
   "cell_type": "code",
   "execution_count": 21,
   "metadata": {},
   "outputs": [
    {
     "data": {
      "text/plain": [
       "['சிங்கபூர்: பல்வேறு நாடுகளையும் பயண ஆலோசனைகளை வழங்கத் தூண்டிய COVID-19 தொற்றுக்கு இடையில், சிங்கப்பூரின் தேசிய பயண முகவர்கள் சங்கம் (NATAS) மே மாதத்தில் நடக்கவிருந்த ஒரு கண்காட்சியை ரத்து செய்துள்ளது, மேலும் இந்த வருடத்தின் பிற்பகுதியில் மற்றொரு நிகழ்வுக்கு அதுபோல் செய்யலாமா என்பது குறித்து “உடனுக்குடன் முடிவெடுக்கும்”.',\n",
       " 'இந்தச் சங்கம் பொதுவாக வருடத்திற்கு இரண்டு பிரம்மாண்டமான பயணக் கண்காட்சிகளை ஏற்பாடு செய்கிறது – ஒன்று பிப்ரவரி அல்லது மார்ச் மற்றும் இரண்டாவது ஆகஸ்ட் அல்லது செப்டம்பர்.',\n",
       " 'இந்த வருடத்திற்கான தனது முதல் பயணக் கண்காட்சியை கடந்த மாதம் நடத்த அது திட்டமிட்டிருந்தது, ஆனால் COVID-19 பரவல் காரணமாக மே மாதத் துவக்கத்தில் அதை ஒத்திவைக்க அது முடிவு செய்தது.',\n",
       " 'சிங்கப்பூர் மற்றும் பிற நாடுகளால் வழங்கப்பட்ட பயண ஆலோசனைகள், பொது சுகாதார அபாய மதிப்பீடு மற்றும் நிச்சயமற்ற பயண உணர்வு உள்ளிட்ட சமீபத்திய முன்னேற்றங்களைக் கவனமாகப் பரிசீலித்த பிறகு, தற்போது அந்த நிகழ்வை ரத்து செய்வதாக புதன்கிழமையன்று (மார் 18) நாடாஸ் வெளியிட்ட அறிக்கையில் கூறியது.',\n",
       " 'இதில் பங்கேற்ற “பெரும்பான்மையான” விற்பனையாளர்கள் இந்த நிகழ்வை ரத்து செய்வதற்கு ஆதரவாக இருந்தனர், மேலும் அந்த விற்பனையாளர்களுக்கு முழுமையான வாடகைத் தொகையை வழங்குவதாக அது கூறியது.',\n",
       " 'ஆகஸ்ட் மாதத்தில் நடைபெறவுள்ள பயணக் கண்காட்சியின் நிலை குறித்தும் நாடாஸ் ஆய்வு செய்து வருகிறது.',\n",
       " '“நியாயத்தை ஒத்திவைக்க வேண்டுமா அல்லது ரத்து செய்ய வேண்டுமா என்பதை நாங்கள் உரிய நேரத்தில் முடிவு செய்வோம்,” என்று அந்த அறிக்கை கூறியது.',\n",
       " 'COVID-19 தொற்றால் சுற்றுலாப் பயணிகள் அதிகம் பாதிக்கப்படுவதால், உள்ளூர் மக்கள் வெளிநாடுகளுக்குச் செல்வதைக் குறைத்துக்கொண்டதால், பயணத்துறையினர் அதிகம் பாதிக்கப்படுகின்றனர்.',\n",
       " 'COVID-19 நோயாளிகளை நாட்டிற்குள் இறக்குமதி செய்வதற்கான ஆபத்து அதிகரித்துள்ள நிலையில், அனைவரும் வெளிநாடுகளுக்குச் செல்வதைத் தள்ளிப்போடுமாறு சிங்கப்பூரர்களை அதிகாரிகள் வலியுறுத்தியுள்ளனர்.',\n",
       " 'வெள்ளிக்கிழமை இரவு 11.59 மணி முதல் சிங்கப்பூருக்குள் நுழையும் அனைத்து சிங்கப்பூரர்கள், நிரந்தரக் குடியிருப்பாளர்கள், நீண்ட கால தேர்ச்சி பெற்றவர்கள் மற்றும் குறுகிய கால பார்வையாளர்களுக்கு 14 நாட்கள் தங்குவதற்கான அறிவிப்பு புதன்கிழமையன்று வழங்கப்படும் என்றும் அறிவிக்கப்பட்டது.',\n",
       " 'சிங்கப்பூரில் நாள்தோறும் அதிகபட்சமாக 47 புதிய COVID-19 நோயாளிகள் புதன்கிழமையன்று கண்டறியப்பட்டதாகவும், இதன் மூலம் நாட்டில் உறுதிப்படுத்தப்பட்ட நோயாளிகளின் எண்ணிக்கை 313 ஆக உயர்ந்துள்ளதாகவும் தெரிவிக்கப்பட்டுள்ளது.']"
      ]
     },
     "execution_count": 21,
     "metadata": {},
     "output_type": "execute_result"
    }
   ],
   "source": [
    "# check 1 translated story\n",
    "\n",
    "stories_translated['Story_Translation'].values[3]"
   ]
  },
  {
   "cell_type": "code",
   "execution_count": 22,
   "metadata": {},
   "outputs": [
    {
     "data": {
      "text/plain": [
       "'SINGAPORE: Amid a COVID-19 outbreak that has prompted various countries to issue travel advisories, the National Association of Travel Agents Singapore (NATAS) has cancelled a fair scheduled for May and will “decide in due course” whether to do the same for another event later this year. The association typically organises two massive travel fairs a year - one in February or March and the second in August or September. It had planned to hold its first travel fair for the year last month but decided to postpone it to early-May due to the outbreak of COVID-19. In a statement on Wednesday (Mar 18), NATAS said it is now cancelling the event after carefully considering recent developments, which include travel advisories issued by Singapore and other countries, public health risk assessment and an uncertain travel sentiment. A “vast majority” of participating vendors were in favour of cancelling the event, it said, adding that it will offer a full rental refund to those vendors. NATAS is also reviewing the status of the travel fair scheduled in August. “(We) will decide in due course if we should call for a postponement or cancellation of the fair,” the statement said. The travel industry is among those hardest hit by the COVID-19 outbreak, as tourists stay away and locals cut back on overseas travel. Authorities have urged Singaporeans to defer all travel abroad amid a heightened risk of importing COVID-19 cases into the country. It was also announced on Wednesday that all Singaporeans, permanent residents, long-term pass holders and short-term visitors entering Singapore from 11.59pm on Friday will be issued a 14-day stay-home notice. Singapore reported a new daily high of 47 new COVID-19 cases on Wednesday, bringing the total number of confirmed cases in the country to 313.'"
      ]
     },
     "execution_count": 22,
     "metadata": {},
     "output_type": "execute_result"
    }
   ],
   "source": [
    "# English version for comparison\n",
    "stories_translated['Story_Text'].values[3]"
   ]
  }
 ],
 "metadata": {
  "kernelspec": {
   "display_name": "Python 3",
   "language": "python",
   "name": "python3"
  },
  "language_info": {
   "codemirror_mode": {
    "name": "ipython",
    "version": 3
   },
   "file_extension": ".py",
   "mimetype": "text/x-python",
   "name": "python",
   "nbconvert_exporter": "python",
   "pygments_lexer": "ipython3",
   "version": "3.6.8"
  }
 },
 "nbformat": 4,
 "nbformat_minor": 4
}
