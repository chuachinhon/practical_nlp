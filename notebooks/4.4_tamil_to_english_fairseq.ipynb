{
 "cells": [
  {
   "cell_type": "markdown",
   "metadata": {},
   "source": [
    "# MACHINE TRANSLATION WITH FAIRSEQ (2/2) - TAMIL_TO_ENGLISH\n",
    "\n",
    "Facebook's AI team recently released its machine translation models for Tamil<->English, and I was eager to give it a try since Tamil is among the most under-served languages in machine learning, and related language pairs are pretty hard to come by.\n",
    "\n",
    "This is also a good opportunity to try out FB's Fairseq library, which seems pretty user-friendly for folks who work with pandas dataframes. Over two short notebooks, I'll demo a simple workflow for:\n",
    "\n",
    "* translating English speeches and news stories to Tamil\n",
    "* translating Tamil speeches and news stories to English.\n",
    "\n",
    "## DATASET\n",
    "The datasets used in these two notebooks involve some existing ones already in use by other notebooks in this repo, as well as new ones selected for this exercise.\n",
    "\n",
    "* Existing datasets:\n",
    "\n",
    "    - The English speeches are taken from an existing dataset comprising 11 speeches in 4 languages (English, Malay, Chinese, and Tamil) from the website of the Singapore Prime Minister's Office.\n",
    "    - The English news stories (on Covid-19) were published on Singapore news outlet's CNA's website in March 2020, and were used in earlier notebooks on English-to-Chinese translation.\n",
    "\n",
    "* New datasets:\n",
    "    - The Tamil speeches (tamil_speeches.csv) are also taken from the website of the Singapore Prime Minister's Office. These are official speeches with English versions (not direct translations though) for reference.\n",
    "    - The Tamil news stories (tamil_stories.csv) are taken from Sethi, Singapore state broadcaster Mediacorp's Tamil-language news website\n",
    "I kept the new datasets small so as to keep the run times manageable.\n",
    "\n",
    "## RESULTS\n",
    "The output CSV files with the translated text and original copy can be [downloaded here](https://www.dropbox.com/sh/26b7q5tqyqp8kim/AAB6HGPhmrF4_Ijdr0NN8hAFa). \n",
    "\n",
    "There are still some obvious problems with the quality of the translation. But as mentioned in earlier notebooks, machine translation gets about 70-80% of the job done, allowing human translators to work more efficiently.\n",
    "\n",
    "I've not done comparisons to see whether the machine translation results from fairseq are better/comparable with those from MarianMT.\n",
    "\n",
    "This notebook focuses on Tamil-to-English translations. See notebook4.3 for English-to-Tamil translation."
   ]
  },
  {
   "cell_type": "code",
   "execution_count": 1,
   "metadata": {},
   "outputs": [],
   "source": [
    "import pandas as pd\n",
    "import re\n",
    "import torch\n",
    "import warnings\n",
    "\n",
    "warnings.filterwarnings('ignore')"
   ]
  },
  {
   "cell_type": "markdown",
   "metadata": {},
   "source": [
    "# 1. TRANSLATE TAMIL SPEECHES TO ENGLISH\n",
    "\n",
    "I'm unfamiliar with the tools out there for Tamil NLP, and there doesn't seem to be a Tamil-language equivalent for NLTK's sentence tokenizer in the wild. So I took the clumsy approach of splitting each sentence into a separate row for translation before concating the results back again. OK, I think, for a simple exercise like this but clearly not recommended if you need to do this in production......."
   ]
  },
  {
   "cell_type": "code",
   "execution_count": 2,
   "metadata": {},
   "outputs": [],
   "source": [
    "raw = pd.read_csv('../data/tamil_speeches.csv')"
   ]
  },
  {
   "cell_type": "code",
   "execution_count": 3,
   "metadata": {},
   "outputs": [
    {
     "data": {
      "text/html": [
       "<div>\n",
       "<style scoped>\n",
       "    .dataframe tbody tr th:only-of-type {\n",
       "        vertical-align: middle;\n",
       "    }\n",
       "\n",
       "    .dataframe tbody tr th {\n",
       "        vertical-align: top;\n",
       "    }\n",
       "\n",
       "    .dataframe thead th {\n",
       "        text-align: right;\n",
       "    }\n",
       "</style>\n",
       "<table border=\"1\" class=\"dataframe\">\n",
       "  <thead>\n",
       "    <tr style=\"text-align: right;\">\n",
       "      <th></th>\n",
       "      <th>Date</th>\n",
       "      <th>Speaker</th>\n",
       "      <th>Title</th>\n",
       "      <th>Language</th>\n",
       "      <th>Text</th>\n",
       "      <th>URL</th>\n",
       "    </tr>\n",
       "  </thead>\n",
       "  <tbody>\n",
       "    <tr>\n",
       "      <th>0</th>\n",
       "      <td>2020-04-30</td>\n",
       "      <td>Lee Hsien Loong</td>\n",
       "      <td>May Day Message 2020</td>\n",
       "      <td>Tamil</td>\n",
       "      <td>இவ்வாண்டு, நாம் சிரமமான சூழ்நிலைகளுக்கு இடையில...</td>\n",
       "      <td>https://www.pmo.gov.sg/Newsroom/PM-Lee-Hsien-L...</td>\n",
       "    </tr>\n",
       "    <tr>\n",
       "      <th>1</th>\n",
       "      <td>2020-08-09</td>\n",
       "      <td>S Iswaran</td>\n",
       "      <td>National Day Message 2020</td>\n",
       "      <td>Tamil</td>\n",
       "      <td>ஒவ்வோர் ஆண்டும், மழையோ வெயிலோ, ஆகஸ்ட் 9-ஆம் தே...</td>\n",
       "      <td>https://www.pmo.gov.sg/Newsroom/National-Day-M...</td>\n",
       "    </tr>\n",
       "    <tr>\n",
       "      <th>2</th>\n",
       "      <td>2019-08-09</td>\n",
       "      <td>S Iswaran</td>\n",
       "      <td>National Day Message 2019</td>\n",
       "      <td>Tamil</td>\n",
       "      <td>தேசிய தினச் செய்தி 2019\\nஎன் சக சிங்கப்பூரர்கள...</td>\n",
       "      <td>https://www.pmo.gov.sg/Newsroom/National-Day-M...</td>\n",
       "    </tr>\n",
       "    <tr>\n",
       "      <th>3</th>\n",
       "      <td>2018-08-09</td>\n",
       "      <td>S Iswaran</td>\n",
       "      <td>National Day Message 2018</td>\n",
       "      <td>Tamil</td>\n",
       "      <td>என் சக சிங்கப்பூரர்களே, வணக்கம்.\\n\\nஒவ்வோர் ஆண...</td>\n",
       "      <td>https://www.pmo.gov.sg/Newsroom/national-day-m...</td>\n",
       "    </tr>\n",
       "    <tr>\n",
       "      <th>4</th>\n",
       "      <td>2017-08-09</td>\n",
       "      <td>S Iswaran</td>\n",
       "      <td>National Day Message 2017</td>\n",
       "      <td>Tamil</td>\n",
       "      <td>என் சக சிங்கப்பூரர்களே,\\nவணக்கம்.\\n\\nநான் இப்ப...</td>\n",
       "      <td>https://www.pmo.gov.sg/Newsroom/national-day-m...</td>\n",
       "    </tr>\n",
       "  </tbody>\n",
       "</table>\n",
       "</div>"
      ],
      "text/plain": [
       "         Date          Speaker                      Title Language  \\\n",
       "0  2020-04-30  Lee Hsien Loong       May Day Message 2020    Tamil   \n",
       "1  2020-08-09        S Iswaran  National Day Message 2020    Tamil   \n",
       "2  2019-08-09        S Iswaran  National Day Message 2019    Tamil   \n",
       "3  2018-08-09        S Iswaran  National Day Message 2018    Tamil   \n",
       "4  2017-08-09        S Iswaran  National Day Message 2017    Tamil   \n",
       "\n",
       "                                                Text  \\\n",
       "0  இவ்வாண்டு, நாம் சிரமமான சூழ்நிலைகளுக்கு இடையில...   \n",
       "1  ஒவ்வோர் ஆண்டும், மழையோ வெயிலோ, ஆகஸ்ட் 9-ஆம் தே...   \n",
       "2  தேசிய தினச் செய்தி 2019\\nஎன் சக சிங்கப்பூரர்கள...   \n",
       "3  என் சக சிங்கப்பூரர்களே, வணக்கம்.\\n\\nஒவ்வோர் ஆண...   \n",
       "4  என் சக சிங்கப்பூரர்களே,\\nவணக்கம்.\\n\\nநான் இப்ப...   \n",
       "\n",
       "                                                 URL  \n",
       "0  https://www.pmo.gov.sg/Newsroom/PM-Lee-Hsien-L...  \n",
       "1  https://www.pmo.gov.sg/Newsroom/National-Day-M...  \n",
       "2  https://www.pmo.gov.sg/Newsroom/National-Day-M...  \n",
       "3  https://www.pmo.gov.sg/Newsroom/national-day-m...  \n",
       "4  https://www.pmo.gov.sg/Newsroom/national-day-m...  "
      ]
     },
     "execution_count": 3,
     "metadata": {},
     "output_type": "execute_result"
    }
   ],
   "source": [
    "raw.head()"
   ]
  },
  {
   "cell_type": "markdown",
   "metadata": {},
   "source": [
    "## 1.2 SPLIT + CLEAN TEXT\n",
    "\n",
    "I've used this approach as well in earlier notebooks. Essentially the new function creates a new DF with the text split into individual rows."
   ]
  },
  {
   "cell_type": "code",
   "execution_count": 4,
   "metadata": {},
   "outputs": [],
   "source": [
    "# source: https://github.com/cognoma/genes/blob/721204091a96e55de6dcad165d6d8265e67e2a48/2.process.py#L61-L95\n",
    "def split_text(df, column, sep=\".\", keep=False):\n",
    "    indexes = list()\n",
    "    new_values = list()\n",
    "    df = df.dropna(subset=[column])\n",
    "    for i, presplit in enumerate(df[column].astype(str)):\n",
    "        values = presplit.split(sep)\n",
    "        if keep and len(values) > 1:\n",
    "            indexes.append(i)\n",
    "            new_values.append(presplit)\n",
    "        for value in values:\n",
    "            indexes.append(i)\n",
    "            new_values.append(value)\n",
    "    new_df = df.iloc[indexes, :].copy()\n",
    "    new_df[column] = new_values\n",
    "    return new_df"
   ]
  },
  {
   "cell_type": "code",
   "execution_count": 5,
   "metadata": {},
   "outputs": [],
   "source": [
    "def clean_text(text):\n",
    "    text = re.sub(r\"\\n\", \" \", text)\n",
    "    text = re.sub(r\"\\n\\n\", \" \", text)\n",
    "    text = text.strip(\" \")\n",
    "    text = re.sub(' +',' ', text).strip() # gets rid of multiple spaces and replace with a single\n",
    "    return text"
   ]
  },
  {
   "cell_type": "code",
   "execution_count": 6,
   "metadata": {},
   "outputs": [],
   "source": [
    "raw[\"Clean_Text\"] = raw['Text'].map(lambda text: clean_text(text))\n",
    "\n",
    "speeches = split_text(raw, \"Clean_Text\")\n",
    "\n",
    "speeches = speeches[speeches[\"Clean_Text\"] != \"\"].copy()"
   ]
  },
  {
   "cell_type": "markdown",
   "metadata": {},
   "source": [
    "## 1.3 TRANSLATE\n",
    "\n",
    "This took about 11.5 minutes on my late-2015 iMac. Prob can go much faster on the newer machines or Colab Pro."
   ]
  },
  {
   "cell_type": "code",
   "execution_count": 7,
   "metadata": {},
   "outputs": [
    {
     "name": "stderr",
     "output_type": "stream",
     "text": [
      "Using cache found in /Users/empire/.cache/torch/hub/pytorch_fairseq_master\n"
     ]
    }
   ],
   "source": [
    "ta2en = torch.hub.load('pytorch/fairseq', 'transformer.wmt20.ta-en')"
   ]
  },
  {
   "cell_type": "code",
   "execution_count": 8,
   "metadata": {},
   "outputs": [
    {
     "name": "stdout",
     "output_type": "stream",
     "text": [
      "CPU times: user 34min 52s, sys: 5.31 s, total: 34min 58s\n",
      "Wall time: 8min 51s\n"
     ]
    }
   ],
   "source": [
    "%%time\n",
    "speeches[\"Machine_Translation\"] = speeches[\"Clean_Text\"].apply(lambda text: ta2en.translate(text))"
   ]
  },
  {
   "cell_type": "markdown",
   "metadata": {},
   "source": [
    "## 1.4 RE-ORG FOR CLARITY\n",
    "\n",
    "The translated speeches can be \"re-assembled\" back using a simple groupby operation and removing the duplicates. An additional step was needed to replace the odd \".,\" characters after joining up the rows."
   ]
  },
  {
   "cell_type": "code",
   "execution_count": 9,
   "metadata": {},
   "outputs": [
    {
     "name": "stdout",
     "output_type": "stream",
     "text": [
      "CPU times: user 68.5 ms, sys: 6.72 ms, total: 75.2 ms\n",
      "Wall time: 60 ms\n"
     ]
    }
   ],
   "source": [
    "%%time \n",
    "speeches['English_Translation'] = speeches.groupby([\"Title\"])[\"Machine_Translation\"].transform(lambda x: ','.join(x))\n",
    "\n",
    "speeches = speeches.drop_duplicates(subset=[\"English_Translation\"]).copy()\n",
    "\n",
    "speeches[\"English_Translation\"] = speeches['English_Translation'].str.replace(\".,\", \". \", regex=False)"
   ]
  },
  {
   "cell_type": "code",
   "execution_count": 10,
   "metadata": {},
   "outputs": [],
   "source": [
    "cols1 = [\"Date\", \"Speaker\", \"Title\", \"Text\", \"English_Translation\", \"URL\"]\n",
    "\n",
    "speeches_translated = speeches[cols1]"
   ]
  },
  {
   "cell_type": "code",
   "execution_count": 11,
   "metadata": {},
   "outputs": [
    {
     "data": {
      "text/html": [
       "<div>\n",
       "<style scoped>\n",
       "    .dataframe tbody tr th:only-of-type {\n",
       "        vertical-align: middle;\n",
       "    }\n",
       "\n",
       "    .dataframe tbody tr th {\n",
       "        vertical-align: top;\n",
       "    }\n",
       "\n",
       "    .dataframe thead th {\n",
       "        text-align: right;\n",
       "    }\n",
       "</style>\n",
       "<table border=\"1\" class=\"dataframe\">\n",
       "  <thead>\n",
       "    <tr style=\"text-align: right;\">\n",
       "      <th></th>\n",
       "      <th>Date</th>\n",
       "      <th>Speaker</th>\n",
       "      <th>Title</th>\n",
       "      <th>Text</th>\n",
       "      <th>English_Translation</th>\n",
       "      <th>URL</th>\n",
       "    </tr>\n",
       "  </thead>\n",
       "  <tbody>\n",
       "    <tr>\n",
       "      <th>0</th>\n",
       "      <td>2020-04-30</td>\n",
       "      <td>Lee Hsien Loong</td>\n",
       "      <td>May Day Message 2020</td>\n",
       "      <td>இவ்வாண்டு, நாம் சிரமமான சூழ்நிலைகளுக்கு இடையில...</td>\n",
       "      <td>This year, we observe May Day, amid difficult ...</td>\n",
       "      <td>https://www.pmo.gov.sg/Newsroom/PM-Lee-Hsien-L...</td>\n",
       "    </tr>\n",
       "    <tr>\n",
       "      <th>1</th>\n",
       "      <td>2020-08-09</td>\n",
       "      <td>S Iswaran</td>\n",
       "      <td>National Day Message 2020</td>\n",
       "      <td>ஒவ்வோர் ஆண்டும், மழையோ வெயிலோ, ஆகஸ்ட் 9-ஆம் தே...</td>\n",
       "      <td>Every year, rain or heat, on August 9th, Singa...</td>\n",
       "      <td>https://www.pmo.gov.sg/Newsroom/National-Day-M...</td>\n",
       "    </tr>\n",
       "    <tr>\n",
       "      <th>2</th>\n",
       "      <td>2019-08-09</td>\n",
       "      <td>S Iswaran</td>\n",
       "      <td>National Day Message 2019</td>\n",
       "      <td>தேசிய தினச் செய்தி 2019\\nஎன் சக சிங்கப்பூரர்கள...</td>\n",
       "      <td>National Day News 2019 My fellow Singaporeans,...</td>\n",
       "      <td>https://www.pmo.gov.sg/Newsroom/National-Day-M...</td>\n",
       "    </tr>\n",
       "    <tr>\n",
       "      <th>3</th>\n",
       "      <td>2018-08-09</td>\n",
       "      <td>S Iswaran</td>\n",
       "      <td>National Day Message 2018</td>\n",
       "      <td>என் சக சிங்கப்பூரர்களே, வணக்கம்.\\n\\nஒவ்வோர் ஆண...</td>\n",
       "      <td>My fellow Singaporeans, salute. Every year, on...</td>\n",
       "      <td>https://www.pmo.gov.sg/Newsroom/national-day-m...</td>\n",
       "    </tr>\n",
       "    <tr>\n",
       "      <th>4</th>\n",
       "      <td>2017-08-09</td>\n",
       "      <td>S Iswaran</td>\n",
       "      <td>National Day Message 2017</td>\n",
       "      <td>என் சக சிங்கப்பூரர்களே,\\nவணக்கம்.\\n\\nநான் இப்ப...</td>\n",
       "      <td>My fellow Singaporeans, salute. I am now in th...</td>\n",
       "      <td>https://www.pmo.gov.sg/Newsroom/national-day-m...</td>\n",
       "    </tr>\n",
       "  </tbody>\n",
       "</table>\n",
       "</div>"
      ],
      "text/plain": [
       "         Date          Speaker                      Title  \\\n",
       "0  2020-04-30  Lee Hsien Loong       May Day Message 2020   \n",
       "1  2020-08-09        S Iswaran  National Day Message 2020   \n",
       "2  2019-08-09        S Iswaran  National Day Message 2019   \n",
       "3  2018-08-09        S Iswaran  National Day Message 2018   \n",
       "4  2017-08-09        S Iswaran  National Day Message 2017   \n",
       "\n",
       "                                                Text  \\\n",
       "0  இவ்வாண்டு, நாம் சிரமமான சூழ்நிலைகளுக்கு இடையில...   \n",
       "1  ஒவ்வோர் ஆண்டும், மழையோ வெயிலோ, ஆகஸ்ட் 9-ஆம் தே...   \n",
       "2  தேசிய தினச் செய்தி 2019\\nஎன் சக சிங்கப்பூரர்கள...   \n",
       "3  என் சக சிங்கப்பூரர்களே, வணக்கம்.\\n\\nஒவ்வோர் ஆண...   \n",
       "4  என் சக சிங்கப்பூரர்களே,\\nவணக்கம்.\\n\\nநான் இப்ப...   \n",
       "\n",
       "                                 English_Translation  \\\n",
       "0  This year, we observe May Day, amid difficult ...   \n",
       "1  Every year, rain or heat, on August 9th, Singa...   \n",
       "2  National Day News 2019 My fellow Singaporeans,...   \n",
       "3  My fellow Singaporeans, salute. Every year, on...   \n",
       "4  My fellow Singaporeans, salute. I am now in th...   \n",
       "\n",
       "                                                 URL  \n",
       "0  https://www.pmo.gov.sg/Newsroom/PM-Lee-Hsien-L...  \n",
       "1  https://www.pmo.gov.sg/Newsroom/National-Day-M...  \n",
       "2  https://www.pmo.gov.sg/Newsroom/National-Day-M...  \n",
       "3  https://www.pmo.gov.sg/Newsroom/national-day-m...  \n",
       "4  https://www.pmo.gov.sg/Newsroom/national-day-m...  "
      ]
     },
     "execution_count": 11,
     "metadata": {},
     "output_type": "execute_result"
    }
   ],
   "source": [
    "speeches_translated.head()"
   ]
  },
  {
   "cell_type": "markdown",
   "metadata": {},
   "source": [
    "## 1.5 CHECK RESULTS"
   ]
  },
  {
   "cell_type": "code",
   "execution_count": 24,
   "metadata": {},
   "outputs": [],
   "source": [
    "#uncomment to generate a separate file if you need it\n",
    "\n",
    "#speeches_translated.to_csv('../data/tamil_to_english_speeches.csv', index=False)"
   ]
  },
  {
   "cell_type": "code",
   "execution_count": 13,
   "metadata": {},
   "outputs": [
    {
     "data": {
      "text/plain": [
       "'My fellow Singaporeans, salute. Every year, on the ninth of August, we celebrate our progress as a nation; we pledge to be a united people. In just fifty-three years, Singapore has achieved a lot. Today, we are a vibrant and prosperous city nation. Our economy continues to see consistent growth. In recent years, that\\'s 3 to 3. It has grown by 5 percent. Productivity improves; incomes rise. Singaporeans live better lives than many other nationalities. But there are signs that complications are arising. Over the past year, trade tensions between the major countries have worsened. This affects international trade, investment and industry confidence. As a result, Singapore\\'s growth and progress will be affected. Trade disputes will undermine trust between major countries and impede cooperation. Therefore, regional and international security may also be at stake. For example, the situation on the Korean Peninsula. Two months ago, a high-level meeting was held between US President Donald Trump and North Korean leader Kim Jong Un. We successfully adapted to that. With that meeting, Korean tensions have eased. However, before nuclear weapons are abandoned on the Korean Peninsula and peace is achieved, there are many challenges we have to deal with. In this work, ASEAN stands by us. Having presided over ASEAN, we want to strengthen cooperation with our neighbours. After a general election in Malaysia, a new government has taken over. On the basis of bilateral good and respect, we will try to maintain good relations with Malaysia. Indonesia will host presidential elections next year. We will continue to work with them to improve the extensive cooperation we have with that country. 5 to No. The government watches these events around us closely. Regardless of the external environment, our wish is for Singapore to excel. We, we strengthen our resilience and create new opportunities. We need to improve the lives of Singaporeans; strengthen social assistance programs; and build a more united nation. To this end, the government, over the past few years, has been reviewing housing, education and health care policies. Today, I speak to you from Kampung Admiralty. Kampung Admiralty, an innovation in public housing. This is an integrated housing estate created for our senior citizens. For them to live comfortably and safely, the houses here have features such as handles and unwrapped floorboards. And not just that. A mall, medical centre, community garden, childcare centre and restaurant station are all located in one place. In Kampung Admiralty, what would one day be like? home to many grandparents. Their children and grandchildren live nearby. Grandparents, looking after their grandchildren. They regularly exercise or go to the community garden to plant. They meet friends there. Working children, when they return home in the evening, sit and dine together with their elderly parents and children. In short, Kampung Admiralty, a pole with high-rise buildings. Family, friends and neighbors are close and loving. This is what our forebears said: \"If we live together, billions of good.\",For us to be an integrated society, HDB will continue to develop innovative housing projects like Kampung Admiralty. What will happen to the current housing estates, which will be maintained and improved over time?,There are still many years to go before the lease of the elderly petals ends. However, we need to think now to keep them a suitable place to live. In terms of education, we increase the number of paler school places. We are expanding childcare facilities across Singapore. The childcare facility at Kampung Admiralty is an example of that. Through committed teachers and good facilities, all children will have a strong start in life. Among the many new health facilities emerging across the country, the clinic here is one. It provides affordable health care. We have plans for MediShield Life, CHAS and CareShield Life. They help with the need for hospital bills, outpatient treatment costs for diseases such as diabetes, and long-term care. Housing, education, health care - Singaporeans are more worried about the costs associated with them. We ensure that these services are quality and affordable for all. In this way, we help families cope with the cost of living; we provide additional assistance to those in need. 12 to No. Our work should not be confined to this. We must continue to improve Singapore. We still have a long way to go on this journey. We will plan with courage and innovation. That requires social cohesion, strong economic, political stability and good government. Today, Singapore is a nation full of opportunities. With the foundation that one generation creates, the other generation creates an even better home. That\\'s why today we are able to excel in the fields we like and build an improved future. Now, we must play our part for the next generation; we must continue to flourish, as a united nation. As a National Day Tamil song puts it, 1, let\\'s say, \"To join many races, to celebrate solidarity, Singhai is my home, any motherland.\",To everyone, my Happy National Day.'"
      ]
     },
     "execution_count": 13,
     "metadata": {},
     "output_type": "execute_result"
    }
   ],
   "source": [
    "# Check translation quality of 1 speech\n",
    "\n",
    "speeches_translated['English_Translation'].values[3]"
   ]
  },
  {
   "cell_type": "markdown",
   "metadata": {},
   "source": [
    "# 2. TRANSLATE TAMIL STORIES TO ENGLISH\n",
    "\n",
    "The stories on Sethi are relatively short, so we don't run into problems with the token limit. Pretty straightforward implementation "
   ]
  },
  {
   "cell_type": "code",
   "execution_count": 14,
   "metadata": {},
   "outputs": [],
   "source": [
    "stories = pd.read_csv('../data/tamil_stories.csv')"
   ]
  },
  {
   "cell_type": "code",
   "execution_count": 15,
   "metadata": {},
   "outputs": [
    {
     "data": {
      "text/html": [
       "<div>\n",
       "<style scoped>\n",
       "    .dataframe tbody tr th:only-of-type {\n",
       "        vertical-align: middle;\n",
       "    }\n",
       "\n",
       "    .dataframe tbody tr th {\n",
       "        vertical-align: top;\n",
       "    }\n",
       "\n",
       "    .dataframe thead th {\n",
       "        text-align: right;\n",
       "    }\n",
       "</style>\n",
       "<table border=\"1\" class=\"dataframe\">\n",
       "  <thead>\n",
       "    <tr style=\"text-align: right;\">\n",
       "      <th></th>\n",
       "      <th>Date</th>\n",
       "      <th>Source</th>\n",
       "      <th>Headline</th>\n",
       "      <th>Story_Text</th>\n",
       "      <th>URL</th>\n",
       "    </tr>\n",
       "  </thead>\n",
       "  <tbody>\n",
       "    <tr>\n",
       "      <th>0</th>\n",
       "      <td>2020-12-23</td>\n",
       "      <td>TamilSeithi (Mediacorp)</td>\n",
       "      <td>புதுவகை கொரோனா கிருமிப்பரவல் இதுவரை சிங்கப்பூர...</td>\n",
       "      <td>சிங்கப்பூரில், புதுவகைக் கொரோனா கிருமிப்பரவல் ...</td>\n",
       "      <td>https://seithi.mediacorp.sg/mobilet/singapore/...</td>\n",
       "    </tr>\n",
       "    <tr>\n",
       "      <th>1</th>\n",
       "      <td>2020-12-23</td>\n",
       "      <td>TamilSeithi (Mediacorp)</td>\n",
       "      <td>தாம்சன் வட்டாரத்தில் கண்டுபிடிக்கப்பட்ட போர்க்...</td>\n",
       "      <td>தாம்சன் வட்டாரத்தில் உள்ள ஜாலான் ராபு சாலையில்...</td>\n",
       "      <td>https://seithi.mediacorp.sg/mobilet/singapore/...</td>\n",
       "    </tr>\n",
       "    <tr>\n",
       "      <th>2</th>\n",
       "      <td>2020-12-22</td>\n",
       "      <td>TamilSeithi (Mediacorp)</td>\n",
       "      <td>COVID-19: மலேசியாவில் Pfizer தடுப்பூசி போட்டுக...</td>\n",
       "      <td>மலேசியாவில் Pfizer நிறுவனத்தின் தடுப்பூசியைப் ...</td>\n",
       "      <td>https://seithi.mediacorp.sg/mobilet/asia/first...</td>\n",
       "    </tr>\n",
       "    <tr>\n",
       "      <th>3</th>\n",
       "      <td>2020-12-22</td>\n",
       "      <td>TamilSeithi (Mediacorp)</td>\n",
       "      <td>COVID-19: முன்னிலை ஊழியர்கள், எளிதில் பாதிக்கப...</td>\n",
       "      <td>COVID-19 தடுப்பூசிகளின் முதல் தொகுதி, சிங்கப்ப...</td>\n",
       "      <td>https://seithi.mediacorp.sg/mobilet/singapore/...</td>\n",
       "    </tr>\n",
       "    <tr>\n",
       "      <th>4</th>\n",
       "      <td>2020-12-22</td>\n",
       "      <td>TamilSeithi (Mediacorp)</td>\n",
       "      <td>இந்தியாவில் TikTok செயலியைப் போன்ற மற்றொரு செய...</td>\n",
       "      <td>இந்தியாவில் TikTok செயலியைப் போன்ற மற்றொரு செய...</td>\n",
       "      <td>https://seithi.mediacorp.sg/mobilet/asia/india...</td>\n",
       "    </tr>\n",
       "  </tbody>\n",
       "</table>\n",
       "</div>"
      ],
      "text/plain": [
       "         Date                   Source  \\\n",
       "0  2020-12-23  TamilSeithi (Mediacorp)   \n",
       "1  2020-12-23  TamilSeithi (Mediacorp)   \n",
       "2  2020-12-22  TamilSeithi (Mediacorp)   \n",
       "3  2020-12-22  TamilSeithi (Mediacorp)   \n",
       "4  2020-12-22  TamilSeithi (Mediacorp)   \n",
       "\n",
       "                                            Headline  \\\n",
       "0  புதுவகை கொரோனா கிருமிப்பரவல் இதுவரை சிங்கப்பூர...   \n",
       "1  தாம்சன் வட்டாரத்தில் கண்டுபிடிக்கப்பட்ட போர்க்...   \n",
       "2  COVID-19: மலேசியாவில் Pfizer தடுப்பூசி போட்டுக...   \n",
       "3  COVID-19: முன்னிலை ஊழியர்கள், எளிதில் பாதிக்கப...   \n",
       "4  இந்தியாவில் TikTok செயலியைப் போன்ற மற்றொரு செய...   \n",
       "\n",
       "                                          Story_Text  \\\n",
       "0  சிங்கப்பூரில், புதுவகைக் கொரோனா கிருமிப்பரவல் ...   \n",
       "1  தாம்சன் வட்டாரத்தில் உள்ள ஜாலான் ராபு சாலையில்...   \n",
       "2  மலேசியாவில் Pfizer நிறுவனத்தின் தடுப்பூசியைப் ...   \n",
       "3  COVID-19 தடுப்பூசிகளின் முதல் தொகுதி, சிங்கப்ப...   \n",
       "4  இந்தியாவில் TikTok செயலியைப் போன்ற மற்றொரு செய...   \n",
       "\n",
       "                                                 URL  \n",
       "0  https://seithi.mediacorp.sg/mobilet/singapore/...  \n",
       "1  https://seithi.mediacorp.sg/mobilet/singapore/...  \n",
       "2  https://seithi.mediacorp.sg/mobilet/asia/first...  \n",
       "3  https://seithi.mediacorp.sg/mobilet/singapore/...  \n",
       "4  https://seithi.mediacorp.sg/mobilet/asia/india...  "
      ]
     },
     "execution_count": 15,
     "metadata": {},
     "output_type": "execute_result"
    }
   ],
   "source": [
    "stories.head()"
   ]
  },
  {
   "cell_type": "markdown",
   "metadata": {},
   "source": [
    "## 2.1 CLEAN TEXT AND TRANSLATE"
   ]
  },
  {
   "cell_type": "code",
   "execution_count": 16,
   "metadata": {},
   "outputs": [],
   "source": [
    "stories[\"Clean_Text\"] = stories['Story_Text'].map(lambda text: clean_text(text))"
   ]
  },
  {
   "cell_type": "code",
   "execution_count": 17,
   "metadata": {},
   "outputs": [
    {
     "name": "stdout",
     "output_type": "stream",
     "text": [
      "CPU times: user 30 s, sys: 76.1 ms, total: 30.1 s\n",
      "Wall time: 7.64 s\n"
     ]
    }
   ],
   "source": [
    "%%time\n",
    "stories['Headline_Translation'] = stories[\"Headline\"].apply(lambda text: ta2en.translate(text))"
   ]
  },
  {
   "cell_type": "code",
   "execution_count": 18,
   "metadata": {},
   "outputs": [
    {
     "name": "stdout",
     "output_type": "stream",
     "text": [
      "CPU times: user 3min 55s, sys: 1.42 s, total: 3min 56s\n",
      "Wall time: 59.9 s\n"
     ]
    }
   ],
   "source": [
    "%%time\n",
    "stories['Story_Translation'] = stories[\"Story_Text\"].apply(lambda text: ta2en.translate(text))"
   ]
  },
  {
   "cell_type": "markdown",
   "metadata": {},
   "source": [
    "## 2.2 RE-ORG FOR CLARITY"
   ]
  },
  {
   "cell_type": "code",
   "execution_count": 19,
   "metadata": {},
   "outputs": [],
   "source": [
    "cols2 = [\n",
    "    \"Date\",\n",
    "    \"Source\",\n",
    "    \"Headline\",\n",
    "    \"Headline_Translation\", \n",
    "    \"Story_Text\",\n",
    "    \"Story_Translation\",\n",
    "    \"URL\",\n",
    "]\n",
    "\n",
    "stories_translated = stories[cols2]\n"
   ]
  },
  {
   "cell_type": "code",
   "execution_count": 20,
   "metadata": {},
   "outputs": [
    {
     "data": {
      "text/html": [
       "<div>\n",
       "<style scoped>\n",
       "    .dataframe tbody tr th:only-of-type {\n",
       "        vertical-align: middle;\n",
       "    }\n",
       "\n",
       "    .dataframe tbody tr th {\n",
       "        vertical-align: top;\n",
       "    }\n",
       "\n",
       "    .dataframe thead th {\n",
       "        text-align: right;\n",
       "    }\n",
       "</style>\n",
       "<table border=\"1\" class=\"dataframe\">\n",
       "  <thead>\n",
       "    <tr style=\"text-align: right;\">\n",
       "      <th></th>\n",
       "      <th>Date</th>\n",
       "      <th>Source</th>\n",
       "      <th>Headline</th>\n",
       "      <th>Headline_Translation</th>\n",
       "      <th>Story_Text</th>\n",
       "      <th>Story_Translation</th>\n",
       "      <th>URL</th>\n",
       "    </tr>\n",
       "  </thead>\n",
       "  <tbody>\n",
       "    <tr>\n",
       "      <th>0</th>\n",
       "      <td>2020-12-23</td>\n",
       "      <td>TamilSeithi (Mediacorp)</td>\n",
       "      <td>புதுவகை கொரோனா கிருமிப்பரவல் இதுவரை சிங்கப்பூர...</td>\n",
       "      <td>New type of corona virus hasn't been in Singap...</td>\n",
       "      <td>சிங்கப்பூரில், புதுவகைக் கொரோனா கிருமிப்பரவல் ...</td>\n",
       "      <td>In Singapore, Education Minister Lawrence Wong...</td>\n",
       "      <td>https://seithi.mediacorp.sg/mobilet/singapore/...</td>\n",
       "    </tr>\n",
       "    <tr>\n",
       "      <th>1</th>\n",
       "      <td>2020-12-23</td>\n",
       "      <td>TamilSeithi (Mediacorp)</td>\n",
       "      <td>தாம்சன் வட்டாரத்தில் கண்டுபிடிக்கப்பட்ட போர்க்...</td>\n",
       "      <td>A wartime bomb found in Thompson circles.</td>\n",
       "      <td>தாம்சன் வட்டாரத்தில் உள்ள ஜாலான் ராபு சாலையில்...</td>\n",
       "      <td>On Jalan Rabu Road in Thompson locality, a war...</td>\n",
       "      <td>https://seithi.mediacorp.sg/mobilet/singapore/...</td>\n",
       "    </tr>\n",
       "    <tr>\n",
       "      <th>2</th>\n",
       "      <td>2020-12-22</td>\n",
       "      <td>TamilSeithi (Mediacorp)</td>\n",
       "      <td>COVID-19: மலேசியாவில் Pfizer தடுப்பூசி போட்டுக...</td>\n",
       "      <td>COVID-19: Prime Minister Muhidin in the first ...</td>\n",
       "      <td>மலேசியாவில் Pfizer நிறுவனத்தின் தடுப்பூசியைப் ...</td>\n",
       "      <td>Prime Minister Muhyiddin Yassin has said he wi...</td>\n",
       "      <td>https://seithi.mediacorp.sg/mobilet/asia/first...</td>\n",
       "    </tr>\n",
       "    <tr>\n",
       "      <th>3</th>\n",
       "      <td>2020-12-22</td>\n",
       "      <td>TamilSeithi (Mediacorp)</td>\n",
       "      <td>COVID-19: முன்னிலை ஊழியர்கள், எளிதில் பாதிக்கப...</td>\n",
       "      <td>COVID-19: Frontline staff, susceptible people ...</td>\n",
       "      <td>COVID-19 தடுப்பூசிகளின் முதல் தொகுதி, சிங்கப்ப...</td>\n",
       "      <td>The first batch of COVID-19 vaccines, arrived ...</td>\n",
       "      <td>https://seithi.mediacorp.sg/mobilet/singapore/...</td>\n",
       "    </tr>\n",
       "    <tr>\n",
       "      <th>4</th>\n",
       "      <td>2020-12-22</td>\n",
       "      <td>TamilSeithi (Mediacorp)</td>\n",
       "      <td>இந்தியாவில் TikTok செயலியைப் போன்ற மற்றொரு செய...</td>\n",
       "      <td>Google, Microsoft, $100 million in funding for...</td>\n",
       "      <td>இந்தியாவில் TikTok செயலியைப் போன்ற மற்றொரு செய...</td>\n",
       "      <td>The company that developed another app similar...</td>\n",
       "      <td>https://seithi.mediacorp.sg/mobilet/asia/india...</td>\n",
       "    </tr>\n",
       "  </tbody>\n",
       "</table>\n",
       "</div>"
      ],
      "text/plain": [
       "         Date                   Source  \\\n",
       "0  2020-12-23  TamilSeithi (Mediacorp)   \n",
       "1  2020-12-23  TamilSeithi (Mediacorp)   \n",
       "2  2020-12-22  TamilSeithi (Mediacorp)   \n",
       "3  2020-12-22  TamilSeithi (Mediacorp)   \n",
       "4  2020-12-22  TamilSeithi (Mediacorp)   \n",
       "\n",
       "                                            Headline  \\\n",
       "0  புதுவகை கொரோனா கிருமிப்பரவல் இதுவரை சிங்கப்பூர...   \n",
       "1  தாம்சன் வட்டாரத்தில் கண்டுபிடிக்கப்பட்ட போர்க்...   \n",
       "2  COVID-19: மலேசியாவில் Pfizer தடுப்பூசி போட்டுக...   \n",
       "3  COVID-19: முன்னிலை ஊழியர்கள், எளிதில் பாதிக்கப...   \n",
       "4  இந்தியாவில் TikTok செயலியைப் போன்ற மற்றொரு செய...   \n",
       "\n",
       "                                Headline_Translation  \\\n",
       "0  New type of corona virus hasn't been in Singap...   \n",
       "1          A wartime bomb found in Thompson circles.   \n",
       "2  COVID-19: Prime Minister Muhidin in the first ...   \n",
       "3  COVID-19: Frontline staff, susceptible people ...   \n",
       "4  Google, Microsoft, $100 million in funding for...   \n",
       "\n",
       "                                          Story_Text  \\\n",
       "0  சிங்கப்பூரில், புதுவகைக் கொரோனா கிருமிப்பரவல் ...   \n",
       "1  தாம்சன் வட்டாரத்தில் உள்ள ஜாலான் ராபு சாலையில்...   \n",
       "2  மலேசியாவில் Pfizer நிறுவனத்தின் தடுப்பூசியைப் ...   \n",
       "3  COVID-19 தடுப்பூசிகளின் முதல் தொகுதி, சிங்கப்ப...   \n",
       "4  இந்தியாவில் TikTok செயலியைப் போன்ற மற்றொரு செய...   \n",
       "\n",
       "                                   Story_Translation  \\\n",
       "0  In Singapore, Education Minister Lawrence Wong...   \n",
       "1  On Jalan Rabu Road in Thompson locality, a war...   \n",
       "2  Prime Minister Muhyiddin Yassin has said he wi...   \n",
       "3  The first batch of COVID-19 vaccines, arrived ...   \n",
       "4  The company that developed another app similar...   \n",
       "\n",
       "                                                 URL  \n",
       "0  https://seithi.mediacorp.sg/mobilet/singapore/...  \n",
       "1  https://seithi.mediacorp.sg/mobilet/singapore/...  \n",
       "2  https://seithi.mediacorp.sg/mobilet/asia/first...  \n",
       "3  https://seithi.mediacorp.sg/mobilet/singapore/...  \n",
       "4  https://seithi.mediacorp.sg/mobilet/asia/india...  "
      ]
     },
     "execution_count": 20,
     "metadata": {},
     "output_type": "execute_result"
    }
   ],
   "source": [
    "stories_translated.head()"
   ]
  },
  {
   "cell_type": "markdown",
   "metadata": {},
   "source": [
    "## 2.3 CHECK RESULTS"
   ]
  },
  {
   "cell_type": "code",
   "execution_count": 21,
   "metadata": {},
   "outputs": [],
   "source": [
    "#uncomment to generate a separate file if you need it\n",
    "\n",
    "#stories_translated.to_csv('../data/tamil_to_english_stories.csv', index=False)"
   ]
  },
  {
   "cell_type": "code",
   "execution_count": 22,
   "metadata": {},
   "outputs": [
    {
     "data": {
      "text/plain": [
       "'தாம்சன் வட்டாரத்தில் உள்ள ஜாலான் ராபு சாலையில், போர்க்கால வெடிகுண்டு ஒன்று கண்டுபிடிக்கப்பட்டுள்ளது.\\n\\nதரைவீடுகள் அமைந்துள்ள அந்தப் பகுதியில் வெடிகுண்டு இருப்பதாக, நேற்று (டிசம்பர் 22) பிற்பகல் 2 மணிக்குத் தகவல் கிடைத்ததாக, சிங்கப்பூர்க் காவல்துறை தெரிவித்தது.\\n\\nகுடிமைத் தற்காப்புப் படையின் வெடிகுண்டு அகற்றும் பிரிவுடன் நடத்தப்பட்ட ஆலோசனையில், அதைப் பாதுகாப்பாக இடம் மாற்றி அப்புறப்படுத்த தீர்மானிக்கப்பட்டது.\\n\\nஇரண்டாம் உலகப் போரில் பயன்படுத்தப்பட்ட வெடிகுண்டுகள், சிங்கப்பூரில் ஆங்காங்கே அவ்வப்போது கண்டுபிடிக்கப்படுவதுண்டு.\\n\\nகடந்த நவம்பர் மாதம், ரிவர் வேலி பகுதியில் உள்ள ஜியாக் கிம் ரோட்டில் இரண்டாம் உலகப் போர்க்கால வெடிகுண்டு ஒன்று கட்டுப்படுத்தப்பட்ட சூழலில் வெடிக்கச் செய்யப்பட்டது.\\n\\nவானிலிருந்து வீசப்பட்ட 50 கிலோகிராம் வெடிகுண்டு, கட்டுமானத் தலத்தில் நிலந்தோண்டும் பணியின்போது கண்டுபிடிக்கப்பட்டது.\\n\\nஅதை அங்கிருந்து அப்புறப்படுத்தி எடுத்துச் செல்வது ஆபத்தானது என்பதால், கிடைத்த இடத்திலேயே அதை வெடிக்கச் செய்ய முடிவெடுக்கப்பட்டு நிறைவேற்றப்பட்டது.'"
      ]
     },
     "execution_count": 22,
     "metadata": {},
     "output_type": "execute_result"
    }
   ],
   "source": [
    "stories_translated['Story_Text'].values[1]"
   ]
  },
  {
   "cell_type": "code",
   "execution_count": 23,
   "metadata": {},
   "outputs": [
    {
     "data": {
      "text/plain": [
       "\"On Jalan Rabu Road in Thompson locality, a wartime bomb has been found.Singapore police said they received a report at 2pm yesterday (December 22) that there was a bomb in the area, where the ground houses are located.In consultation with the Civil Self-Defense Force's bomb disposal unit, it was determined to safely relocate and dispose of it.The explosives used in World War II are regularly found in Singapore.Last November, a World War II bomb was detonated in a controlled environment on Jiyak Kim Road in the River Valley area.A 50kg bomb dropped from the sky was found during landfill work at the construction site, as it was dangerous to evacuate and take it away.\""
      ]
     },
     "execution_count": 23,
     "metadata": {},
     "output_type": "execute_result"
    }
   ],
   "source": [
    "stories_translated['Story_Translation'].values[1]"
   ]
  }
 ],
 "metadata": {
  "kernelspec": {
   "display_name": "Python 3",
   "language": "python",
   "name": "python3"
  },
  "language_info": {
   "codemirror_mode": {
    "name": "ipython",
    "version": 3
   },
   "file_extension": ".py",
   "mimetype": "text/x-python",
   "name": "python",
   "nbconvert_exporter": "python",
   "pygments_lexer": "ipython3",
   "version": "3.6.8"
  }
 },
 "nbformat": 4,
 "nbformat_minor": 4
}
