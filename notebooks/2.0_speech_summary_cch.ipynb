{
 "cells": [
  {
   "cell_type": "markdown",
   "metadata": {},
   "source": [
    "# Summarising Short and Long Speeches With Hugging Face's Pipeline \n",
    "\n",
    "Text summarization is a far less common downstream NLP task compared to, say, classification or sentiment analysis. The resources and time needed to do it well are considerable, to say nothing of the time needed to assess the results.\n",
    "\n",
    "Hugging Face's transformers pipeline, however, has made the first part of the task much faster and more efficient. More time can then be devoted to analysing the results, and/or building your own benchmarks for assessing the summaries.\n",
    "\n",
    "Due to the sequence length limits (eg, 1024 tokens for BART and 512 for T5 in the pipeline), a little additional work is needed to break up long speeches. But in any case, I find breaking up long speeches to be a better approach as it allows me to better inspect the results more closely. More advanced models in future (GPT-3?) would probably make this extra step unnecessary.\n",
    "\n",
    "Results-wise, the summaries can range from so-so to being spot on, as the examples below will show. There are mistakes too, and some parts of the output are obviously nonsensical if you understand the context of some speeches (less so if you don't).\n",
    "\n",
    "But overall, I'd say that the results present a very good first draft, especially in summarizing longer speeches. I can see decent applications of this in newsrooms, for one. It'll be interesting to see how well the models perform on this task as they get more sophisticated.\n",
    "\n",
    "This is the second of a series of notebooks focusing on practical applications of new NLP tools. My earlier notebook on analysing the sentiment structure of speeches (also using Hugging Face's pipeline) can be found [here](https://github.com/chuachinhon/practical_nlp/blob/master/notebooks/1.0_speech_sentiment_cch.ipynb)."
   ]
  },
  {
   "cell_type": "code",
   "execution_count": 2,
   "metadata": {},
   "outputs": [],
   "source": [
    "from __future__ import print_function\n",
    "\n",
    "import ipywidgets as widgets\n",
    "import pandas as pd\n",
    "import re\n",
    "\n",
    "from transformers import pipeline"
   ]
  },
  {
   "cell_type": "markdown",
   "metadata": {},
   "source": [
    "# 1. DATA PROCESSING\n",
    "\n",
    "For this notebook, I'm using a small collection of political speeches/statements made during Singapore's General Election in July 2020. The word-count for the speeches in this toy dataset ranges from 236 words to 3,746 words.\n",
    "\n",
    "Feel free to switch out to speeches from other countries, or any other points in history. If you are applying this to speeches from specialised areas like law or medicine, you'll likely have to fine tune it with domain-specific data.\n",
    "\n",
    "Point to note: This doesn't work for non-English speeches."
   ]
  },
  {
   "cell_type": "code",
   "execution_count": 3,
   "metadata": {},
   "outputs": [],
   "source": [
    "raw = pd.read_csv(\"../data/ge2020_speeches.csv\")"
   ]
  },
  {
   "cell_type": "code",
   "execution_count": 4,
   "metadata": {},
   "outputs": [],
   "source": [
    "# Adding a word-count column for easier reference\n",
    "\n",
    "raw['Word_Count'] = raw['Text'].str.count(' ') + 1"
   ]
  },
  {
   "cell_type": "code",
   "execution_count": 5,
   "metadata": {},
   "outputs": [],
   "source": [
    "# Simple cleaning of text ahead of summarisation\n",
    "\n",
    "def clean_text(text):\n",
    "    text = text.encode(\"ascii\", errors=\"ignore\").decode(\"ascii\") #remove non-ascii, Chinese characters\n",
    "    text = text.lower()\n",
    "    text = re.sub(r\"http\\S+\", \"\", text)\n",
    "    text = re.sub(r\"\\n\", \" \", text)\n",
    "    text = re.sub(r\"\\n\\n\", \" \", text)\n",
    "    text = re.sub(r\"\\W\", \" \", text)\n",
    "    text = re.sub(r\"^\\d+\\s|\\s\\d+\\s|\\s\\d+$\", \" \", text)\n",
    "    text = text.strip(\" \")\n",
    "    text = re.sub(r\"[^\\w\\s]\", \"\", text)\n",
    "    text = re.sub(' +',' ', text).strip() # get rid of multiple spaces and replace with a single\n",
    "    return text\n",
    "\n",
    "raw[\"Clean_Text\"] = raw['Text'].map(lambda text: clean_text(text))"
   ]
  },
  {
   "cell_type": "code",
   "execution_count": 6,
   "metadata": {},
   "outputs": [
    {
     "data": {
      "text/html": [
       "<div>\n",
       "<style scoped>\n",
       "    .dataframe tbody tr th:only-of-type {\n",
       "        vertical-align: middle;\n",
       "    }\n",
       "\n",
       "    .dataframe tbody tr th {\n",
       "        vertical-align: top;\n",
       "    }\n",
       "\n",
       "    .dataframe thead th {\n",
       "        text-align: right;\n",
       "    }\n",
       "</style>\n",
       "<table border=\"1\" class=\"dataframe\">\n",
       "  <thead>\n",
       "    <tr style=\"text-align: right;\">\n",
       "      <th></th>\n",
       "      <th>Date</th>\n",
       "      <th>Party</th>\n",
       "      <th>Speaker</th>\n",
       "      <th>Title</th>\n",
       "      <th>Text</th>\n",
       "      <th>URL</th>\n",
       "      <th>Word_Count</th>\n",
       "      <th>Clean_Text</th>\n",
       "    </tr>\n",
       "  </thead>\n",
       "  <tbody>\n",
       "    <tr>\n",
       "      <th>0</th>\n",
       "      <td>2020-06-23</td>\n",
       "      <td>People's Action Party</td>\n",
       "      <td>Lee Hsien Loong</td>\n",
       "      <td>GE2020 announcement</td>\n",
       "      <td>Earlier today, I saw President Halimah Yacob, ...</td>\n",
       "      <td>https://www.pmo.gov.sg/Newsroom/Speech-on-GE20...</td>\n",
       "      <td>1283</td>\n",
       "      <td>earlier today i saw president halimah yacob to...</td>\n",
       "    </tr>\n",
       "    <tr>\n",
       "      <th>1</th>\n",
       "      <td>2020-06-24</td>\n",
       "      <td>Progress Singapore Party</td>\n",
       "      <td>Lee Hsien Yang</td>\n",
       "      <td>FB post</td>\n",
       "      <td>Election fever is in the air.\\n\\nThe coming Ge...</td>\n",
       "      <td>https://www.facebook.com/watch/?v=173190043697...</td>\n",
       "      <td>236</td>\n",
       "      <td>election fever is in the air the coming genera...</td>\n",
       "    </tr>\n",
       "    <tr>\n",
       "      <th>2</th>\n",
       "      <td>2020-06-25</td>\n",
       "      <td>Workers' Party</td>\n",
       "      <td>Pritam Singh</td>\n",
       "      <td>FB post</td>\n",
       "      <td>I would like to announce that Mr Low Thia Khia...</td>\n",
       "      <td>https://www.facebook.com/pritam.eunos/posts/32...</td>\n",
       "      <td>463</td>\n",
       "      <td>i would like to announce that mr low thia khia...</td>\n",
       "    </tr>\n",
       "    <tr>\n",
       "      <th>3</th>\n",
       "      <td>2020-06-27</td>\n",
       "      <td>People's Action Party</td>\n",
       "      <td>Lee Hsien Loong</td>\n",
       "      <td>Launch of PAP manifesto</td>\n",
       "      <td>We are going into elections in the midst of a ...</td>\n",
       "      <td>https://www.straitstimes.com/politics/singapor...</td>\n",
       "      <td>2181</td>\n",
       "      <td>we are going into elections in the midst of a ...</td>\n",
       "    </tr>\n",
       "    <tr>\n",
       "      <th>4</th>\n",
       "      <td>2020-06-29</td>\n",
       "      <td>Progress Singapore Party</td>\n",
       "      <td>Lee Hsien Yang</td>\n",
       "      <td>NaN</td>\n",
       "      <td>SINGAPORE WANTS DIFFERENT\\nSingaporeans will h...</td>\n",
       "      <td>https://www.facebook.com/LeeHsienYangSGP/video...</td>\n",
       "      <td>785</td>\n",
       "      <td>singapore wants different singaporeans will ha...</td>\n",
       "    </tr>\n",
       "    <tr>\n",
       "      <th>5</th>\n",
       "      <td>2020-06-30</td>\n",
       "      <td>Progress Singapore Party</td>\n",
       "      <td>Lee Hsien Yang</td>\n",
       "      <td>POLITICS IS FOR EVERY CITIZEN</td>\n",
       "      <td>You may not be interested in politics, but pol...</td>\n",
       "      <td>https://www.facebook.com/LeeHsienYangSGP/posts...</td>\n",
       "      <td>591</td>\n",
       "      <td>you may not be interested in politics but poli...</td>\n",
       "    </tr>\n",
       "    <tr>\n",
       "      <th>6</th>\n",
       "      <td>2020-06-30</td>\n",
       "      <td>Workers' Party</td>\n",
       "      <td>Pritam Singh</td>\n",
       "      <td>Make Your Vote Count: Message for voters</td>\n",
       "      <td>This election is taking place amidst extraordi...</td>\n",
       "      <td>https://www.wp.sg/message-for-voters/</td>\n",
       "      <td>627</td>\n",
       "      <td>this election is taking place amidst extraordi...</td>\n",
       "    </tr>\n",
       "    <tr>\n",
       "      <th>7</th>\n",
       "      <td>2020-06-30</td>\n",
       "      <td>People's Action Party</td>\n",
       "      <td>Lee Hsien Loong</td>\n",
       "      <td>Letter to voters</td>\n",
       "      <td>COVID-19 is the most severe crisis for humanit...</td>\n",
       "      <td>https://prodwpbolb.blob.core.windows.net/media...</td>\n",
       "      <td>287</td>\n",
       "      <td>covid is the most severe crisis for humanity i...</td>\n",
       "    </tr>\n",
       "    <tr>\n",
       "      <th>8</th>\n",
       "      <td>2020-07-01</td>\n",
       "      <td>People's Action Party</td>\n",
       "      <td>Lee Hsien Loong</td>\n",
       "      <td>Message to voters</td>\n",
       "      <td>This General Election is critical for our futu...</td>\n",
       "      <td>https://www.pap.org.sg/news/ge2020-news/messag...</td>\n",
       "      <td>1732</td>\n",
       "      <td>this general election is critical for our futu...</td>\n",
       "    </tr>\n",
       "    <tr>\n",
       "      <th>9</th>\n",
       "      <td>2020-07-05</td>\n",
       "      <td>Progress Singapore Party</td>\n",
       "      <td>Lee Hsien Yang</td>\n",
       "      <td>CHARACTER AND COURAGE</td>\n",
       "      <td>This election year, Singapore is seeing a surg...</td>\n",
       "      <td>https://www.facebook.com/LeeHsienYangSGP/posts...</td>\n",
       "      <td>510</td>\n",
       "      <td>this election year singapore is seeing a surge...</td>\n",
       "    </tr>\n",
       "    <tr>\n",
       "      <th>10</th>\n",
       "      <td>2020-07-06</td>\n",
       "      <td>People's Action Party</td>\n",
       "      <td>Lee Hsien Loong</td>\n",
       "      <td>Fullerton Lunch time Rally</td>\n",
       "      <td>In almost every General Election since indepen...</td>\n",
       "      <td>https://www.pap.org.sg/news/ge2020-news/ge2020...</td>\n",
       "      <td>3746</td>\n",
       "      <td>in almost every general election since indepen...</td>\n",
       "    </tr>\n",
       "  </tbody>\n",
       "</table>\n",
       "</div>"
      ],
      "text/plain": [
       "          Date                     Party          Speaker  \\\n",
       "0   2020-06-23     People's Action Party  Lee Hsien Loong   \n",
       "1   2020-06-24  Progress Singapore Party   Lee Hsien Yang   \n",
       "2   2020-06-25            Workers' Party     Pritam Singh   \n",
       "3   2020-06-27     People's Action Party  Lee Hsien Loong   \n",
       "4   2020-06-29  Progress Singapore Party   Lee Hsien Yang   \n",
       "5   2020-06-30  Progress Singapore Party   Lee Hsien Yang   \n",
       "6   2020-06-30            Workers' Party     Pritam Singh   \n",
       "7   2020-06-30     People's Action Party  Lee Hsien Loong   \n",
       "8   2020-07-01     People's Action Party  Lee Hsien Loong   \n",
       "9   2020-07-05  Progress Singapore Party   Lee Hsien Yang   \n",
       "10  2020-07-06     People's Action Party  Lee Hsien Loong   \n",
       "\n",
       "                                       Title  \\\n",
       "0                        GE2020 announcement   \n",
       "1                                    FB post   \n",
       "2                                    FB post   \n",
       "3                    Launch of PAP manifesto   \n",
       "4                                        NaN   \n",
       "5              POLITICS IS FOR EVERY CITIZEN   \n",
       "6   Make Your Vote Count: Message for voters   \n",
       "7                           Letter to voters   \n",
       "8                          Message to voters   \n",
       "9                      CHARACTER AND COURAGE   \n",
       "10                Fullerton Lunch time Rally   \n",
       "\n",
       "                                                 Text  \\\n",
       "0   Earlier today, I saw President Halimah Yacob, ...   \n",
       "1   Election fever is in the air.\\n\\nThe coming Ge...   \n",
       "2   I would like to announce that Mr Low Thia Khia...   \n",
       "3   We are going into elections in the midst of a ...   \n",
       "4   SINGAPORE WANTS DIFFERENT\\nSingaporeans will h...   \n",
       "5   You may not be interested in politics, but pol...   \n",
       "6   This election is taking place amidst extraordi...   \n",
       "7   COVID-19 is the most severe crisis for humanit...   \n",
       "8   This General Election is critical for our futu...   \n",
       "9   This election year, Singapore is seeing a surg...   \n",
       "10  In almost every General Election since indepen...   \n",
       "\n",
       "                                                  URL  Word_Count  \\\n",
       "0   https://www.pmo.gov.sg/Newsroom/Speech-on-GE20...        1283   \n",
       "1   https://www.facebook.com/watch/?v=173190043697...         236   \n",
       "2   https://www.facebook.com/pritam.eunos/posts/32...         463   \n",
       "3   https://www.straitstimes.com/politics/singapor...        2181   \n",
       "4   https://www.facebook.com/LeeHsienYangSGP/video...         785   \n",
       "5   https://www.facebook.com/LeeHsienYangSGP/posts...         591   \n",
       "6               https://www.wp.sg/message-for-voters/         627   \n",
       "7   https://prodwpbolb.blob.core.windows.net/media...         287   \n",
       "8   https://www.pap.org.sg/news/ge2020-news/messag...        1732   \n",
       "9   https://www.facebook.com/LeeHsienYangSGP/posts...         510   \n",
       "10  https://www.pap.org.sg/news/ge2020-news/ge2020...        3746   \n",
       "\n",
       "                                           Clean_Text  \n",
       "0   earlier today i saw president halimah yacob to...  \n",
       "1   election fever is in the air the coming genera...  \n",
       "2   i would like to announce that mr low thia khia...  \n",
       "3   we are going into elections in the midst of a ...  \n",
       "4   singapore wants different singaporeans will ha...  \n",
       "5   you may not be interested in politics but poli...  \n",
       "6   this election is taking place amidst extraordi...  \n",
       "7   covid is the most severe crisis for humanity i...  \n",
       "8   this general election is critical for our futu...  \n",
       "9   this election year singapore is seeing a surge...  \n",
       "10  in almost every general election since indepen...  "
      ]
     },
     "execution_count": 6,
     "metadata": {},
     "output_type": "execute_result"
    }
   ],
   "source": [
    "raw.head(11)"
   ]
  },
  {
   "cell_type": "markdown",
   "metadata": {},
   "source": [
    "## 1.1 SELECT SHORT SPEECHES\n",
    "\n",
    "The short speeches (less than 1024 tokens) can be efficiently summarised at one go using the HF pipeline, while the longer ones will take a bit of extra work. So let's split out the short speeches first. "
   ]
  },
  {
   "cell_type": "code",
   "execution_count": 7,
   "metadata": {},
   "outputs": [],
   "source": [
    "crit1 = raw[\"Word_Count\"] < 800\n",
    "\n",
    "short_speeches = raw[crit1].copy()"
   ]
  },
  {
   "cell_type": "markdown",
   "metadata": {},
   "source": [
    "## 1.2 SELECT A LONG SPEECH\n",
    "\n",
    "To keep this notebook consise, I'll just focus on the longest speech (3,746 words) in my sample dataset. The extra work-around is merely to break the speech up into chunks of fixed-character length.\n",
    "\n",
    "The function below (taken from this [Stack Overflow post](https://stackoverflow.com/questions/47625950/split-string-by-spaces-into-substrings-with-max-length-in-python)) allows you to cut the text up into smaller or bigger chunks as you wish. I picked the setting of 2500 (character-length) for convenience."
   ]
  },
  {
   "cell_type": "code",
   "execution_count": 8,
   "metadata": {},
   "outputs": [],
   "source": [
    "long_speech = raw[10:].copy()"
   ]
  },
  {
   "cell_type": "code",
   "execution_count": 9,
   "metadata": {},
   "outputs": [],
   "source": [
    "# Define function to split cleaned text into fixed chunks of user-defined character length\n",
    "# In this case, we'll split into chunks of 2500 characters each; feel free to change for your own tests\n",
    "\n",
    "def split_text(text, limit, sep=\" \"):\n",
    "    words = text.split()\n",
    "    if max(map(len, words)) > limit:\n",
    "        raise ValueError(\"limit is too small\")\n",
    "    res, part, others = [], words[0], words[1:]\n",
    "    for word in others:\n",
    "        if len(sep)+len(word) > limit-len(part):\n",
    "            res.append(part)\n",
    "            part = word\n",
    "        else:\n",
    "            part += sep+word\n",
    "    if part:\n",
    "        res.append(part)\n",
    "    return res\n",
    "\n",
    "long_speech['Split_Text'] = long_speech['Clean_Text'].map(lambda x: split_text(x, limit=2500)).copy()"
   ]
  },
  {
   "cell_type": "code",
   "execution_count": 10,
   "metadata": {},
   "outputs": [],
   "source": [
    "# Creating a new DF from the chunks which have been split up\n",
    "\n",
    "long_speech_split = (\n",
    "    pd.DataFrame(long_speech['Split_Text'].explode())\n",
    "    .stack()\n",
    "    .reset_index()\n",
    "    .rename(columns={0: \"Sections\"})\n",
    "    .drop([\"level_0\", \"level_1\"], axis=1)\n",
    ")"
   ]
  },
  {
   "cell_type": "code",
   "execution_count": 11,
   "metadata": {},
   "outputs": [
    {
     "data": {
      "text/html": [
       "<div>\n",
       "<style scoped>\n",
       "    .dataframe tbody tr th:only-of-type {\n",
       "        vertical-align: middle;\n",
       "    }\n",
       "\n",
       "    .dataframe tbody tr th {\n",
       "        vertical-align: top;\n",
       "    }\n",
       "\n",
       "    .dataframe thead th {\n",
       "        text-align: right;\n",
       "    }\n",
       "</style>\n",
       "<table border=\"1\" class=\"dataframe\">\n",
       "  <thead>\n",
       "    <tr style=\"text-align: right;\">\n",
       "      <th></th>\n",
       "      <th>Sections</th>\n",
       "    </tr>\n",
       "  </thead>\n",
       "  <tbody>\n",
       "    <tr>\n",
       "      <th>0</th>\n",
       "      <td>in almost every general election since indepen...</td>\n",
       "    </tr>\n",
       "    <tr>\n",
       "      <th>1</th>\n",
       "      <td>recruited and trained swab teams to perform th...</td>\n",
       "    </tr>\n",
       "    <tr>\n",
       "      <th>2</th>\n",
       "      <td>together on all these different aspects we wou...</td>\n",
       "    </tr>\n",
       "    <tr>\n",
       "      <th>3</th>\n",
       "      <td>deadlines because of the circuit breaker would...</td>\n",
       "    </tr>\n",
       "    <tr>\n",
       "      <th>4</th>\n",
       "      <td>with edb on a marketing pitch all over the wor...</td>\n",
       "    </tr>\n",
       "    <tr>\n",
       "      <th>5</th>\n",
       "      <td>elected in a crisis where swift decisive actio...</td>\n",
       "    </tr>\n",
       "    <tr>\n",
       "      <th>6</th>\n",
       "      <td>better please vote for us if you think we have...</td>\n",
       "    </tr>\n",
       "    <tr>\n",
       "      <th>7</th>\n",
       "      <td>more than its old splendour the singapore rive...</td>\n",
       "    </tr>\n",
       "    <tr>\n",
       "      <th>8</th>\n",
       "      <td>agreed all my life i have felt a deep personal...</td>\n",
       "    </tr>\n",
       "  </tbody>\n",
       "</table>\n",
       "</div>"
      ],
      "text/plain": [
       "                                            Sections\n",
       "0  in almost every general election since indepen...\n",
       "1  recruited and trained swab teams to perform th...\n",
       "2  together on all these different aspects we wou...\n",
       "3  deadlines because of the circuit breaker would...\n",
       "4  with edb on a marketing pitch all over the wor...\n",
       "5  elected in a crisis where swift decisive actio...\n",
       "6  better please vote for us if you think we have...\n",
       "7  more than its old splendour the singapore rive...\n",
       "8  agreed all my life i have felt a deep personal..."
      ]
     },
     "execution_count": 11,
     "metadata": {},
     "output_type": "execute_result"
    }
   ],
   "source": [
    "# 9 sections seem like a decent split for a 3,700+ words speech\n",
    "# This gives us enough scope to test the model's performance, \n",
    "# while not making it too troublesome to inspect the results\n",
    "\n",
    "long_speech_split"
   ]
  },
  {
   "cell_type": "markdown",
   "metadata": {},
   "source": [
    "# 2. TEXT SUMMARY WITH HUGGING FACE'S PIPELINE\n",
    "\n",
    "The heavy lifting has been done by the good people at HF, and you just need a few lines of code to start generating results. I'm using the summarisation pipeline out of the box, meaning it is using the default bart-large-cnn model. No additional tuning was done for Singapore politics or news.\n",
    "\n",
    "We'll start with the short speeches. This could take longer or shorter depending on your machine. I used a 2018 Mac Mini with 64Gb RAM.  "
   ]
  },
  {
   "cell_type": "markdown",
   "metadata": {},
   "source": [
    "## 2.1 SUMMARIZING SHORT SPEECHES"
   ]
  },
  {
   "cell_type": "code",
   "execution_count": 12,
   "metadata": {},
   "outputs": [],
   "source": [
    "corpus_short = list(short_speeches['Clean_Text'].values)"
   ]
  },
  {
   "cell_type": "code",
   "execution_count": 13,
   "metadata": {},
   "outputs": [],
   "source": [
    "nlp_summarizer = pipeline(\n",
    "    \"summarization\"\n",
    ")"
   ]
  },
  {
   "cell_type": "code",
   "execution_count": 14,
   "metadata": {},
   "outputs": [
    {
     "name": "stdout",
     "output_type": "stream",
     "text": [
      "CPU times: user 4min 13s, sys: 12.9 s, total: 4min 26s\n",
      "Wall time: 1min 4s\n"
     ]
    }
   ],
   "source": [
    "%%time\n",
    "\n",
    "short_speeches[\"Summary\"] = nlp_summarizer(corpus_short)"
   ]
  },
  {
   "cell_type": "code",
   "execution_count": 15,
   "metadata": {},
   "outputs": [],
   "source": [
    "# The pipeline's sentiment analysis output consists of a label and the summarised text\n",
    "# I prefer to extract the text into a separate column\n",
    "\n",
    "short_speeches['HF_Summary_Text'] = [x.get('summary_text') for x in short_speeches['Summary']]"
   ]
  },
  {
   "cell_type": "code",
   "execution_count": 16,
   "metadata": {},
   "outputs": [],
   "source": [
    "cols1 = [\n",
    "    \"Date\",\n",
    "    \"Party\",\n",
    "    \"Speaker\",\n",
    "    \"Title\",\n",
    "    \"Text\",\n",
    "    \"HF_Summary_Text\",\n",
    "    \"Word_Count\",\n",
    "    \"URL\",\n",
    "]\n",
    "\n",
    "hf_short = short_speeches[cols1].copy()\n"
   ]
  },
  {
   "cell_type": "code",
   "execution_count": 17,
   "metadata": {},
   "outputs": [],
   "source": [
    "# Uncomment and inspect the detailed results in CSV if you wish\n",
    "\n",
    "# hf_short.to_csv(\"../data/short_results.csv\", index=False)"
   ]
  },
  {
   "cell_type": "code",
   "execution_count": 18,
   "metadata": {},
   "outputs": [
    {
     "data": {
      "text/plain": [
       "array([' election fever is in the air the coming general election will be a watershed there will be no lky bonus or sg to help the ruling party. There are a number of live issues which are of broad concern including thecpf scheme hdb leases and the presidential election widely perceived to lack legitimacy. The progress singapore party and dr tan needs our help we can contribute in many different ways.',\n",
       "       'i would like to announce that mr low thia khiang, mr chen show mao and mr png eng huat would not be standing as candidates in ge2020. The decision to step down is not a retirement the collective decision is based on three considerations all of which are anchored on the continued political success of the workers party.',\n",
       "       'Singaporeans will have to go out to vote on july when they would have preferred to stay safe from the risk of getting covid. Almost three months after lockdown began new cases still remain stubbornly in the three digit range a result of the paps poor handling of the pandemic the resulting economic damage could have been avoided.',\n",
       "       'i grew up in a family at the centre of singapore politics from the time i was born in politics was a part of my family. Political leadership in singapore needs to be much more than about one family or one man. dynastic politics causes bad government when people enter politics on the back of the family name they are often evaluated based on their parents and not their performance.',\n",
       "       'The workers party offers singaporeans a choice and an alternative voice in parliament. The wp has contributed significantly to the democratic processes in our country. An elected opposition is necessary to keep the ruling party on its toes and to challenge the pap for the betterment of singapore. Make your vote count vote for the workers party in ge2020.',\n",
       "       'Every singaporean has been affected by the pandemic my government has spared no effort to support workers businesses and households. We have done our best to minimise the effects but the crisis is far from over. singapore needs a capable government trusted to make the right decisions for all of us. Please vote for me and my pap team together we will secure our lives our jobs our future.',\n",
       "       'This election year singapore is seeing a surge of credible and capable alternative candidates. These candidates step forward to seek justice and equality for all they have chosen to speak out because they are concerned for the future of our country. This to the monochrome of pap candidates for many entering the political arena appears like a career step.'],\n",
       "      dtype=object)"
      ]
     },
     "execution_count": 18,
     "metadata": {},
     "output_type": "execute_result"
    }
   ],
   "source": [
    "# Let's have a quick look at the results from 7 summaries\n",
    "\n",
    "hf_short['HF_Summary_Text'].values"
   ]
  },
  {
   "cell_type": "markdown",
   "metadata": {},
   "source": [
    "## QUICK TAKE\n",
    "\n",
    "Some of the summaries are so-so. There's a tendency for the model to use the first and second sentences in the corpus. This could work well for summaries of news stories, but less so for those involving political/corporate speeches.\n",
    "\n",
    "But the model turned up one brilliant summary, the fifth one where Workers' Party leader Pritam Singh laid out his party's main pitch to voters. See the original statement [here](https://www.wp.sg/message-for-voters/).\n",
    "\n",
    "This is the summary by Bart: \"The workers party offers singaporeans a choice and an alternative voice in parliament. The wp has contributed significantly to the democratic processes in our country. An elected opposition is necessary to keep the ruling party on its toes and to challenge the pap for the betterment of singapore. Make your vote count vote for the workers party in ge2020.\"\n",
    "\n",
    "In 59 words, the Bart model perfectly distilled the essence of the Workers' Party's campaign message from a 627-word statement. Pretty striking for a model that has not been tuned on data involving Singapore politics.\n",
    "\n",
    "Here's a side-by-side comparison of the original text and the Bart summary. Impressive, most impressive."
   ]
  },
  {
   "cell_type": "markdown",
   "metadata": {},
   "source": [
    "## 2.2 SUMMARIZE A LONG SPEECH\n",
    "\n",
    "Next, let's see how Bart does with a long speech. "
   ]
  },
  {
   "cell_type": "code",
   "execution_count": 19,
   "metadata": {},
   "outputs": [],
   "source": [
    "corpus_long = list(long_speech_split['Sections'].values)"
   ]
  },
  {
   "cell_type": "code",
   "execution_count": 20,
   "metadata": {},
   "outputs": [
    {
     "name": "stdout",
     "output_type": "stream",
     "text": [
      "CPU times: user 4min 21s, sys: 13.1 s, total: 4min 34s\n",
      "Wall time: 1min 3s\n"
     ]
    }
   ],
   "source": [
    "%%time\n",
    "\n",
    "long_speech_split[\"Summary\"] = nlp_summarizer(corpus_long)"
   ]
  },
  {
   "cell_type": "code",
   "execution_count": 21,
   "metadata": {},
   "outputs": [],
   "source": [
    "long_speech_split['HF_Summary_Text'] = [x.get('summary_text') for x in long_speech_split['Summary']]"
   ]
  },
  {
   "cell_type": "code",
   "execution_count": 22,
   "metadata": {},
   "outputs": [],
   "source": [
    "# Uncomment and inspect the detailed results in CSV if you wish\n",
    "\n",
    "#long_speech_split.to_csv('../data/long_speech_results.csv', index=False)"
   ]
  },
  {
   "cell_type": "code",
   "execution_count": 23,
   "metadata": {},
   "outputs": [
    {
     "data": {
      "text/plain": [
       "array(['Covid is a continuing danger to public health it will also weigh heavily on the economy for perhaps a year if not longer. A good government is to fight covid supporting the economy and get out of this crisis intact. This is what this election is aboutwhom do you trust to get you through the very difficult times ahead covid',\n",
       "       'Despite our best efforts in april the virus broke out in our migrant worker dormitories the large numbers posed a real risk of overwhelming our hospitals we had to mount a huge operation. recruited and trained swab teams to perform the thousands of swabs needed every day behind the scenes this was a highly complex operation.',\n",
       "       'Singapore has avoided the worst of the pandemic and is in a better position now. But the danger is still very much alive in many countries after lockdowns were relaxed cases have flared up again. The opposition parties are talking as if we can just keep to our old ways and the crisis did not exist.',\n",
       "       'Ministers shanmugam and sms edwin tong are both senior counsels. They managed to put this bill together in nine days parliament then passed it on a certificate of urgency all three readings in one day. This is the difference that highly competent government can make to your lives.',\n",
       "       'Singaporeans are industrious and capable workers the best workforce in the world. Investors had high regard for our public service edb was a one stop shop where they could settle all their problems. Investors knew singapore had a first rate government they had interacted with our ministers they knew our quality.',\n",
       "       'Pap Lee Kuan Yew seeks not just your mandate but your strong mandate to lead singapore through this crisis. The opposition prattle on about a minimum wage or a universal basic income. The pap is fielding new candidates a record number but to serve you we first need to get elected.',\n",
       "       'The opposition says they are offering singaporeans insurance just in case you need it but dont buy insurance from someone on a promise especially when you have reason to suspect this company cannot pay out on the insurance. Their cheques will bounce with the pap you know that when we promise anything we will deliver we have walked with singapore for six decades.',\n",
       "       'Covid is the crisis of a generation it is more complex and more dangerous than any previous crisis we have met again. We must have the same unshakeable will to marshal all our energies and resources to fight it together prevail and emerge stronger. i count myself fortunate to have been elected by you and chosen by my fellow ministers and mps to lead singapore through this critical crisis.',\n",
       "       '\"I have felt a deep personal responsibility to do my part to keep singapore safe and to make it succeed now to get through this crisis i need your help i cannot do it alone i need the strongest team we can find to work with me and with you\" \"At this critical moment singapore needs a capable government with the full support of a united people more than ever have no fear instead be confident singapore will endure this searching trial\"'],\n",
       "      dtype=object)"
      ]
     },
     "execution_count": 23,
     "metadata": {},
     "output_type": "execute_result"
    }
   ],
   "source": [
    "# Let's have a look at how the 'mini-summaries' have turned out\n",
    "# Overall, we have a 536-word summary of the original 3,746-word speech \n",
    "\n",
    "long_speech_split['HF_Summary_Text'].values"
   ]
  },
  {
   "cell_type": "markdown",
   "metadata": {},
   "source": [
    "## QUICK TAKE\n",
    "\n",
    "Not as the brilliant as the Workers' Party example above, but a pretty decent first draft I'll have to say. Key points were decently captured. If I'm in a rush, this is something I can clean up fairly quickly.\n",
    "\n",
    "Singaporean users will pick out an obvious mistake in the summary of the 6th section: \"Pap Lee Kuan Yew seeks not just your mandate but your strong mandate to lead singapore through this crisis.\"\n",
    "\n",
    "The original paragraph reads: \"Investors will scrutinise the election results, and act on their conclusions. So will others, both friends and adversaries of Singapore. That is why in this election, the PAP seeks not just your mandate, but your strong mandate, to lead Singapore through this crisis.\"\n",
    "\n",
    "Lee Kuan Yew, Singapore's founding prime minister, [died in March 2015](https://en.wikipedia.org/wiki/Lee_Kuan_Yew). Those with more than a passing knowledge of Singapore politics might flippantly argue that Bart was in fact correct, and not erroneous with the above summary mentioning Lee Kuan Yew. But this is a discussion for another day ;)\n",
    "\n",
    "Here's the link to the [original speech](https://www.pap.org.sg/news/ge2020-news/ge2020-lunch-time-rally/)."
   ]
  },
  {
   "cell_type": "markdown",
   "metadata": {},
   "source": [
    "## 2.3 SUMMARIZE WITH A DIFFERENT MODEL\n",
    "\n",
    "HF has a growing list of models that are fine-tuned for the [summarization task](https://huggingface.co/models?filter=summarization). Whether they turn out better results is debateable.\n",
    "\n",
    "I'll just try the t5-base model here, to see how it performs on some of the shorter speeches. Note that t5 has a lower max sequence limit (512) compared to the default Bart model in the summarisation pipeline."
   ]
  },
  {
   "cell_type": "code",
   "execution_count": 24,
   "metadata": {},
   "outputs": [],
   "source": [
    "crit2 = raw[\"Word_Count\"] < 500\n",
    "\n",
    "shorter_speeches = raw[crit2].copy()"
   ]
  },
  {
   "cell_type": "code",
   "execution_count": 25,
   "metadata": {},
   "outputs": [
    {
     "data": {
      "text/html": [
       "<div>\n",
       "<style scoped>\n",
       "    .dataframe tbody tr th:only-of-type {\n",
       "        vertical-align: middle;\n",
       "    }\n",
       "\n",
       "    .dataframe tbody tr th {\n",
       "        vertical-align: top;\n",
       "    }\n",
       "\n",
       "    .dataframe thead th {\n",
       "        text-align: right;\n",
       "    }\n",
       "</style>\n",
       "<table border=\"1\" class=\"dataframe\">\n",
       "  <thead>\n",
       "    <tr style=\"text-align: right;\">\n",
       "      <th></th>\n",
       "      <th>Date</th>\n",
       "      <th>Party</th>\n",
       "      <th>Speaker</th>\n",
       "      <th>Title</th>\n",
       "      <th>Text</th>\n",
       "      <th>URL</th>\n",
       "      <th>Word_Count</th>\n",
       "      <th>Clean_Text</th>\n",
       "    </tr>\n",
       "  </thead>\n",
       "  <tbody>\n",
       "    <tr>\n",
       "      <th>1</th>\n",
       "      <td>2020-06-24</td>\n",
       "      <td>Progress Singapore Party</td>\n",
       "      <td>Lee Hsien Yang</td>\n",
       "      <td>FB post</td>\n",
       "      <td>Election fever is in the air.\\n\\nThe coming Ge...</td>\n",
       "      <td>https://www.facebook.com/watch/?v=173190043697...</td>\n",
       "      <td>236</td>\n",
       "      <td>election fever is in the air the coming genera...</td>\n",
       "    </tr>\n",
       "    <tr>\n",
       "      <th>2</th>\n",
       "      <td>2020-06-25</td>\n",
       "      <td>Workers' Party</td>\n",
       "      <td>Pritam Singh</td>\n",
       "      <td>FB post</td>\n",
       "      <td>I would like to announce that Mr Low Thia Khia...</td>\n",
       "      <td>https://www.facebook.com/pritam.eunos/posts/32...</td>\n",
       "      <td>463</td>\n",
       "      <td>i would like to announce that mr low thia khia...</td>\n",
       "    </tr>\n",
       "    <tr>\n",
       "      <th>7</th>\n",
       "      <td>2020-06-30</td>\n",
       "      <td>People's Action Party</td>\n",
       "      <td>Lee Hsien Loong</td>\n",
       "      <td>Letter to voters</td>\n",
       "      <td>COVID-19 is the most severe crisis for humanit...</td>\n",
       "      <td>https://prodwpbolb.blob.core.windows.net/media...</td>\n",
       "      <td>287</td>\n",
       "      <td>covid is the most severe crisis for humanity i...</td>\n",
       "    </tr>\n",
       "  </tbody>\n",
       "</table>\n",
       "</div>"
      ],
      "text/plain": [
       "         Date                     Party          Speaker             Title  \\\n",
       "1  2020-06-24  Progress Singapore Party   Lee Hsien Yang           FB post   \n",
       "2  2020-06-25            Workers' Party     Pritam Singh           FB post   \n",
       "7  2020-06-30     People's Action Party  Lee Hsien Loong  Letter to voters   \n",
       "\n",
       "                                                Text  \\\n",
       "1  Election fever is in the air.\\n\\nThe coming Ge...   \n",
       "2  I would like to announce that Mr Low Thia Khia...   \n",
       "7  COVID-19 is the most severe crisis for humanit...   \n",
       "\n",
       "                                                 URL  Word_Count  \\\n",
       "1  https://www.facebook.com/watch/?v=173190043697...         236   \n",
       "2  https://www.facebook.com/pritam.eunos/posts/32...         463   \n",
       "7  https://prodwpbolb.blob.core.windows.net/media...         287   \n",
       "\n",
       "                                          Clean_Text  \n",
       "1  election fever is in the air the coming genera...  \n",
       "2  i would like to announce that mr low thia khia...  \n",
       "7  covid is the most severe crisis for humanity i...  "
      ]
     },
     "execution_count": 25,
     "metadata": {},
     "output_type": "execute_result"
    }
   ],
   "source": [
    "shorter_speeches"
   ]
  },
  {
   "cell_type": "code",
   "execution_count": 26,
   "metadata": {},
   "outputs": [],
   "source": [
    "corpus_shorter = list(shorter_speeches['Clean_Text'].values)"
   ]
  },
  {
   "cell_type": "code",
   "execution_count": 27,
   "metadata": {},
   "outputs": [
    {
     "data": {
      "application/vnd.jupyter.widget-view+json": {
       "model_id": "e569a385311a47fbaf0c2cba39cdb81f",
       "version_major": 2,
       "version_minor": 0
      },
      "text/plain": [
       "HBox(children=(FloatProgress(value=0.0, description='Downloading', max=230.0, style=ProgressStyle(description_…"
      ]
     },
     "metadata": {},
     "output_type": "display_data"
    },
    {
     "name": "stdout",
     "output_type": "stream",
     "text": [
      "\n"
     ]
    }
   ],
   "source": [
    "t5_summarizer = pipeline(\n",
    "    \"summarization\",\n",
    "    model=\"t5-base\",\n",
    "    tokenizer=\"t5-base\",\n",
    "    framework=\"tf\"\n",
    ")"
   ]
  },
  {
   "cell_type": "code",
   "execution_count": 28,
   "metadata": {},
   "outputs": [
    {
     "name": "stdout",
     "output_type": "stream",
     "text": [
      "CPU times: user 2min 26s, sys: 10.8 s, total: 2min 37s\n",
      "Wall time: 42.4 s\n"
     ]
    }
   ],
   "source": [
    "%%time\n",
    "\n",
    "shorter_speeches[\"T5_Summary\"] = t5_summarizer(corpus_shorter)"
   ]
  },
  {
   "cell_type": "code",
   "execution_count": 29,
   "metadata": {},
   "outputs": [],
   "source": [
    "shorter_speeches['T5_Summary_Text'] = [x.get('summary_text') for x in shorter_speeches['T5_Summary']]"
   ]
  },
  {
   "cell_type": "code",
   "execution_count": 30,
   "metadata": {},
   "outputs": [],
   "source": [
    "cols2 = [\n",
    "    \"Date\",\n",
    "    \"Party\",\n",
    "    \"Speaker\",\n",
    "    \"Title\",\n",
    "    \"Text\",\n",
    "    \"T5_Summary_Text\",\n",
    "    \"Word_Count\",\n",
    "    \"URL\",\n",
    "]\n",
    "\n",
    "t5_short = shorter_speeches[cols2].copy()"
   ]
  },
  {
   "cell_type": "code",
   "execution_count": 31,
   "metadata": {},
   "outputs": [
    {
     "data": {
      "text/plain": [
       "array(['there will be no lky bonus or sg to help the ruling party there are live issues of broad concern including the cpf scheme hdb leases and the presidential election widely perceived to lack legitimacy . the progress singapore party and dr tan needs our help we can contribute in many different ways . we can help to spread the word persuade our friends and family that the psp is a serious party that deserves their support .',\n",
       "       'gerald giam and leon perera both experienced ncmps will stand in aljunied grc and the party organising secretary dennis tan another npmp will stand at hougang smc . mr low thia khiang ms low chen show mao and mmr png eng huat will not be standing as candidates in ge2020 the collective decision is based on three considerations all of which are ',\n",
       "       'covid is the most severe crisis for humanity in a very long time every singaporean has been affected by the pandemic my government has spared no effort to support workers businesses and households we have done our best to minimise the effects but the crisis is far from over some of you have lost jobs and many more have seen your incomes fall significantly we are all worried by what lies ahead we need the most capable team in charge and a government which has your strong mandate i ask you to entrust this responsibility once again to the people'],\n",
       "      dtype=object)"
      ]
     },
     "execution_count": 31,
     "metadata": {},
     "output_type": "execute_result"
    }
   ],
   "source": [
    "# Let's have a full at the results from t5\n",
    "\n",
    "t5_short['T5_Summary_Text'].values"
   ]
  },
  {
   "cell_type": "markdown",
   "metadata": {},
   "source": [
    "## QUICK TAKE\n",
    "\n",
    "The t5 results aren't better, unfortunately. But more pre-trained models are coming online, and I can only imagine that the results can only get better with time."
   ]
  },
  {
   "cell_type": "markdown",
   "metadata": {},
   "source": [
    "# 3. WEB APP\n",
    "\n",
    "I adapted the code from two sources ([here](https://github.com/Csmith715/Summarizer) and [here](https://github.com/plotly/dash-sample-apps/blob/master/apps/dash-summarize/app.py)) for a simple web app for HF pipeline driven summaries. But deploying it on Pythonanywhere.com proved impossible due to the file storage limit for free accounts. They might install pytorch in their system image in a future upgrade, but there's no indication as to when or if that might happen.\n",
    "\n",
    "In the meantime, the web app can be run locally on your machine if you want to show folks who are not familiar with notebooks how this might work for them. The .py file for the app is [here](https://github.com/chuachinhon/practical_nlp/blob/master/apps/summary_app_local.py). "
   ]
  }
 ],
 "metadata": {
  "kernelspec": {
   "display_name": "Python 3",
   "language": "python",
   "name": "python3"
  },
  "language_info": {
   "codemirror_mode": {
    "name": "ipython",
    "version": 3
   },
   "file_extension": ".py",
   "mimetype": "text/x-python",
   "name": "python",
   "nbconvert_exporter": "python",
   "pygments_lexer": "ipython3",
   "version": "3.6.8"
  }
 },
 "nbformat": 4,
 "nbformat_minor": 2
}
